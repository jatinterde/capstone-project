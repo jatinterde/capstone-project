{
 "cells": [
  {
   "cell_type": "markdown",
   "metadata": {},
   "source": [
    "# PREDICTING THE SEVERITY OF AN ACCIDENT/COLLISION"
   ]
  },
  {
   "cell_type": "markdown",
   "metadata": {},
   "source": [
    "### Import the relevant libraires"
   ]
  },
  {
   "cell_type": "code",
   "execution_count": 1,
   "metadata": {},
   "outputs": [],
   "source": [
    "import pandas as pd\n",
    "import numpy as np\n",
    "import matplotlib.pyplot as plt\n",
    "%matplotlib inline\n",
    "import seaborn as sns\n",
    "\n",
    "import dask.dataframe as dd\n",
    "\n",
    "from sklearn.model_selection import train_test_split\n",
    "from sklearn.linear_model import LinearRegression\n",
    "from sklearn.tree import DecisionTreeRegressor\n",
    "from sklearn.metrics import confusion_matrix, accuracy_score\n",
    "from sklearn.preprocessing import LabelEncoder\n",
    "\n",
    "sns.set()"
   ]
  },
  {
   "cell_type": "markdown",
   "metadata": {},
   "source": [
    "### Import the dataset"
   ]
  },
  {
   "cell_type": "code",
   "execution_count": 2,
   "metadata": {},
   "outputs": [
    {
     "name": "stderr",
     "output_type": "stream",
     "text": [
      "<string>:2: DtypeWarning: Columns (33) have mixed types.Specify dtype option on import or set low_memory=False.\n"
     ]
    },
    {
     "name": "stdout",
     "output_type": "stream",
     "text": [
      "Wall time: 1.11 s\n",
      "<class 'pandas.core.frame.DataFrame'>\n",
      "RangeIndex: 194673 entries, 0 to 194672\n",
      "Columns: 38 entries, SEVERITYCODE to HITPARKEDCAR\n",
      "dtypes: float64(4), int64(12), object(22)\n",
      "memory usage: 288.5 MB\n"
     ]
    }
   ],
   "source": [
    "%time data = pd.read_csv('Data-Collisions.csv')\n",
    "data.info(verbose=False, memory_usage=\"deep\")"
   ]
  },
  {
   "cell_type": "code",
   "execution_count": 3,
   "metadata": {},
   "outputs": [
    {
     "name": "stdout",
     "output_type": "stream",
     "text": [
      "Wall time: 51.9 ms\n",
      "<class 'dask.dataframe.core.DataFrame'>\n",
      "Columns: 38 entries, SEVERITYCODE to HITPARKEDCAR\n",
      "dtypes: object(22), float64(4), int64(12)\n",
      "memory usage: 56.4 MB\n"
     ]
    },
    {
     "name": "stderr",
     "output_type": "stream",
     "text": [
      "C:\\ProgramData\\Anaconda3\\lib\\site-packages\\dask\\core.py:118: DtypeWarning: Columns (33) have mixed types.Specify dtype option on import or set low_memory=False.\n",
      "  args2 = [_execute_task(a, cache) for a in args]\n"
     ]
    }
   ],
   "source": [
    "%time data = dd.read_csv('Data-Collisions.csv')\n",
    "data.info(verbose=False, memory_usage=\"deep\")"
   ]
  },
  {
   "cell_type": "markdown",
   "metadata": {},
   "source": [
    "## EXPLORATORY DATA ANALYSIS"
   ]
  },
  {
   "cell_type": "markdown",
   "metadata": {},
   "source": [
    "#### View the data"
   ]
  },
  {
   "cell_type": "code",
   "execution_count": 4,
   "metadata": {},
   "outputs": [
    {
     "name": "stderr",
     "output_type": "stream",
     "text": [
      "C:\\ProgramData\\Anaconda3\\lib\\site-packages\\dask\\core.py:118: DtypeWarning: Columns (33) have mixed types.Specify dtype option on import or set low_memory=False.\n",
      "  args2 = [_execute_task(a, cache) for a in args]\n"
     ]
    },
    {
     "data": {
      "text/html": [
       "<div>\n",
       "<style scoped>\n",
       "    .dataframe tbody tr th:only-of-type {\n",
       "        vertical-align: middle;\n",
       "    }\n",
       "\n",
       "    .dataframe tbody tr th {\n",
       "        vertical-align: top;\n",
       "    }\n",
       "\n",
       "    .dataframe thead th {\n",
       "        text-align: right;\n",
       "    }\n",
       "</style>\n",
       "<table border=\"1\" class=\"dataframe\">\n",
       "  <thead>\n",
       "    <tr style=\"text-align: right;\">\n",
       "      <th></th>\n",
       "      <th>SEVERITYCODE</th>\n",
       "      <th>X</th>\n",
       "      <th>Y</th>\n",
       "      <th>OBJECTID</th>\n",
       "      <th>INCKEY</th>\n",
       "      <th>COLDETKEY</th>\n",
       "      <th>REPORTNO</th>\n",
       "      <th>STATUS</th>\n",
       "      <th>ADDRTYPE</th>\n",
       "      <th>INTKEY</th>\n",
       "      <th>...</th>\n",
       "      <th>ROADCOND</th>\n",
       "      <th>LIGHTCOND</th>\n",
       "      <th>PEDROWNOTGRNT</th>\n",
       "      <th>SDOTCOLNUM</th>\n",
       "      <th>SPEEDING</th>\n",
       "      <th>ST_COLCODE</th>\n",
       "      <th>ST_COLDESC</th>\n",
       "      <th>SEGLANEKEY</th>\n",
       "      <th>CROSSWALKKEY</th>\n",
       "      <th>HITPARKEDCAR</th>\n",
       "    </tr>\n",
       "  </thead>\n",
       "  <tbody>\n",
       "    <tr>\n",
       "      <th>0</th>\n",
       "      <td>2</td>\n",
       "      <td>-122.323148</td>\n",
       "      <td>47.703140</td>\n",
       "      <td>1</td>\n",
       "      <td>1307</td>\n",
       "      <td>1307</td>\n",
       "      <td>3502005</td>\n",
       "      <td>Matched</td>\n",
       "      <td>Intersection</td>\n",
       "      <td>37475.0</td>\n",
       "      <td>...</td>\n",
       "      <td>Wet</td>\n",
       "      <td>Daylight</td>\n",
       "      <td>NaN</td>\n",
       "      <td>NaN</td>\n",
       "      <td>NaN</td>\n",
       "      <td>10</td>\n",
       "      <td>Entering at angle</td>\n",
       "      <td>0</td>\n",
       "      <td>0</td>\n",
       "      <td>N</td>\n",
       "    </tr>\n",
       "    <tr>\n",
       "      <th>1</th>\n",
       "      <td>1</td>\n",
       "      <td>-122.347294</td>\n",
       "      <td>47.647172</td>\n",
       "      <td>2</td>\n",
       "      <td>52200</td>\n",
       "      <td>52200</td>\n",
       "      <td>2607959</td>\n",
       "      <td>Matched</td>\n",
       "      <td>Block</td>\n",
       "      <td>NaN</td>\n",
       "      <td>...</td>\n",
       "      <td>Wet</td>\n",
       "      <td>Dark - Street Lights On</td>\n",
       "      <td>NaN</td>\n",
       "      <td>6354039.0</td>\n",
       "      <td>NaN</td>\n",
       "      <td>11</td>\n",
       "      <td>From same direction - both going straight - bo...</td>\n",
       "      <td>0</td>\n",
       "      <td>0</td>\n",
       "      <td>N</td>\n",
       "    </tr>\n",
       "    <tr>\n",
       "      <th>2</th>\n",
       "      <td>1</td>\n",
       "      <td>-122.334540</td>\n",
       "      <td>47.607871</td>\n",
       "      <td>3</td>\n",
       "      <td>26700</td>\n",
       "      <td>26700</td>\n",
       "      <td>1482393</td>\n",
       "      <td>Matched</td>\n",
       "      <td>Block</td>\n",
       "      <td>NaN</td>\n",
       "      <td>...</td>\n",
       "      <td>Dry</td>\n",
       "      <td>Daylight</td>\n",
       "      <td>NaN</td>\n",
       "      <td>4323031.0</td>\n",
       "      <td>NaN</td>\n",
       "      <td>32</td>\n",
       "      <td>One parked--one moving</td>\n",
       "      <td>0</td>\n",
       "      <td>0</td>\n",
       "      <td>N</td>\n",
       "    </tr>\n",
       "    <tr>\n",
       "      <th>3</th>\n",
       "      <td>1</td>\n",
       "      <td>-122.334803</td>\n",
       "      <td>47.604803</td>\n",
       "      <td>4</td>\n",
       "      <td>1144</td>\n",
       "      <td>1144</td>\n",
       "      <td>3503937</td>\n",
       "      <td>Matched</td>\n",
       "      <td>Block</td>\n",
       "      <td>NaN</td>\n",
       "      <td>...</td>\n",
       "      <td>Dry</td>\n",
       "      <td>Daylight</td>\n",
       "      <td>NaN</td>\n",
       "      <td>NaN</td>\n",
       "      <td>NaN</td>\n",
       "      <td>23</td>\n",
       "      <td>From same direction - all others</td>\n",
       "      <td>0</td>\n",
       "      <td>0</td>\n",
       "      <td>N</td>\n",
       "    </tr>\n",
       "    <tr>\n",
       "      <th>4</th>\n",
       "      <td>2</td>\n",
       "      <td>-122.306426</td>\n",
       "      <td>47.545739</td>\n",
       "      <td>5</td>\n",
       "      <td>17700</td>\n",
       "      <td>17700</td>\n",
       "      <td>1807429</td>\n",
       "      <td>Matched</td>\n",
       "      <td>Intersection</td>\n",
       "      <td>34387.0</td>\n",
       "      <td>...</td>\n",
       "      <td>Wet</td>\n",
       "      <td>Daylight</td>\n",
       "      <td>NaN</td>\n",
       "      <td>4028032.0</td>\n",
       "      <td>NaN</td>\n",
       "      <td>10</td>\n",
       "      <td>Entering at angle</td>\n",
       "      <td>0</td>\n",
       "      <td>0</td>\n",
       "      <td>N</td>\n",
       "    </tr>\n",
       "  </tbody>\n",
       "</table>\n",
       "<p>5 rows × 38 columns</p>\n",
       "</div>"
      ],
      "text/plain": [
       "   SEVERITYCODE           X          Y  OBJECTID  INCKEY  COLDETKEY REPORTNO  \\\n",
       "0             2 -122.323148  47.703140         1    1307       1307  3502005   \n",
       "1             1 -122.347294  47.647172         2   52200      52200  2607959   \n",
       "2             1 -122.334540  47.607871         3   26700      26700  1482393   \n",
       "3             1 -122.334803  47.604803         4    1144       1144  3503937   \n",
       "4             2 -122.306426  47.545739         5   17700      17700  1807429   \n",
       "\n",
       "    STATUS      ADDRTYPE   INTKEY  ... ROADCOND                LIGHTCOND  \\\n",
       "0  Matched  Intersection  37475.0  ...      Wet                 Daylight   \n",
       "1  Matched         Block      NaN  ...      Wet  Dark - Street Lights On   \n",
       "2  Matched         Block      NaN  ...      Dry                 Daylight   \n",
       "3  Matched         Block      NaN  ...      Dry                 Daylight   \n",
       "4  Matched  Intersection  34387.0  ...      Wet                 Daylight   \n",
       "\n",
       "  PEDROWNOTGRNT  SDOTCOLNUM SPEEDING ST_COLCODE  \\\n",
       "0           NaN         NaN      NaN         10   \n",
       "1           NaN   6354039.0      NaN         11   \n",
       "2           NaN   4323031.0      NaN         32   \n",
       "3           NaN         NaN      NaN         23   \n",
       "4           NaN   4028032.0      NaN         10   \n",
       "\n",
       "                                          ST_COLDESC  SEGLANEKEY  \\\n",
       "0                                  Entering at angle           0   \n",
       "1  From same direction - both going straight - bo...           0   \n",
       "2                             One parked--one moving           0   \n",
       "3                   From same direction - all others           0   \n",
       "4                                  Entering at angle           0   \n",
       "\n",
       "   CROSSWALKKEY  HITPARKEDCAR  \n",
       "0             0             N  \n",
       "1             0             N  \n",
       "2             0             N  \n",
       "3             0             N  \n",
       "4             0             N  \n",
       "\n",
       "[5 rows x 38 columns]"
      ]
     },
     "execution_count": 4,
     "metadata": {},
     "output_type": "execute_result"
    }
   ],
   "source": [
    "data.compute().head() #since it is a dask dataframe"
   ]
  },
  {
   "cell_type": "markdown",
   "metadata": {},
   "source": [
    "#### Shape of the data"
   ]
  },
  {
   "cell_type": "code",
   "execution_count": 5,
   "metadata": {},
   "outputs": [
    {
     "name": "stderr",
     "output_type": "stream",
     "text": [
      "C:\\ProgramData\\Anaconda3\\lib\\site-packages\\dask\\core.py:118: DtypeWarning: Columns (33) have mixed types.Specify dtype option on import or set low_memory=False.\n",
      "  args2 = [_execute_task(a, cache) for a in args]\n"
     ]
    },
    {
     "data": {
      "text/plain": [
       "(194673, 38)"
      ]
     },
     "execution_count": 5,
     "metadata": {},
     "output_type": "execute_result"
    }
   ],
   "source": [
    "data.compute().shape"
   ]
  },
  {
   "cell_type": "markdown",
   "metadata": {},
   "source": [
    "#### Describe the data"
   ]
  },
  {
   "cell_type": "code",
   "execution_count": 6,
   "metadata": {},
   "outputs": [
    {
     "name": "stderr",
     "output_type": "stream",
     "text": [
      "C:\\ProgramData\\Anaconda3\\lib\\site-packages\\dask\\core.py:118: DtypeWarning: Columns (33) have mixed types.Specify dtype option on import or set low_memory=False.\n",
      "  args2 = [_execute_task(a, cache) for a in args]\n"
     ]
    },
    {
     "data": {
      "text/html": [
       "<div>\n",
       "<style scoped>\n",
       "    .dataframe tbody tr th:only-of-type {\n",
       "        vertical-align: middle;\n",
       "    }\n",
       "\n",
       "    .dataframe tbody tr th {\n",
       "        vertical-align: top;\n",
       "    }\n",
       "\n",
       "    .dataframe thead th {\n",
       "        text-align: right;\n",
       "    }\n",
       "</style>\n",
       "<table border=\"1\" class=\"dataframe\">\n",
       "  <thead>\n",
       "    <tr style=\"text-align: right;\">\n",
       "      <th></th>\n",
       "      <th>SEVERITYCODE</th>\n",
       "      <th>X</th>\n",
       "      <th>Y</th>\n",
       "      <th>OBJECTID</th>\n",
       "      <th>INCKEY</th>\n",
       "      <th>COLDETKEY</th>\n",
       "      <th>REPORTNO</th>\n",
       "      <th>STATUS</th>\n",
       "      <th>ADDRTYPE</th>\n",
       "      <th>INTKEY</th>\n",
       "      <th>...</th>\n",
       "      <th>ROADCOND</th>\n",
       "      <th>LIGHTCOND</th>\n",
       "      <th>PEDROWNOTGRNT</th>\n",
       "      <th>SDOTCOLNUM</th>\n",
       "      <th>SPEEDING</th>\n",
       "      <th>ST_COLCODE</th>\n",
       "      <th>ST_COLDESC</th>\n",
       "      <th>SEGLANEKEY</th>\n",
       "      <th>CROSSWALKKEY</th>\n",
       "      <th>HITPARKEDCAR</th>\n",
       "    </tr>\n",
       "  </thead>\n",
       "  <tbody>\n",
       "    <tr>\n",
       "      <th>count</th>\n",
       "      <td>194673.000000</td>\n",
       "      <td>189339.000000</td>\n",
       "      <td>189339.000000</td>\n",
       "      <td>194673.000000</td>\n",
       "      <td>194673.000000</td>\n",
       "      <td>194673.000000</td>\n",
       "      <td>194673</td>\n",
       "      <td>194673</td>\n",
       "      <td>192747</td>\n",
       "      <td>65070.000000</td>\n",
       "      <td>...</td>\n",
       "      <td>189661</td>\n",
       "      <td>189503</td>\n",
       "      <td>4667</td>\n",
       "      <td>1.149360e+05</td>\n",
       "      <td>9333</td>\n",
       "      <td>194655</td>\n",
       "      <td>189769</td>\n",
       "      <td>194673.000000</td>\n",
       "      <td>1.946730e+05</td>\n",
       "      <td>194673</td>\n",
       "    </tr>\n",
       "    <tr>\n",
       "      <th>unique</th>\n",
       "      <td>NaN</td>\n",
       "      <td>NaN</td>\n",
       "      <td>NaN</td>\n",
       "      <td>NaN</td>\n",
       "      <td>NaN</td>\n",
       "      <td>NaN</td>\n",
       "      <td>194670</td>\n",
       "      <td>2</td>\n",
       "      <td>3</td>\n",
       "      <td>NaN</td>\n",
       "      <td>...</td>\n",
       "      <td>9</td>\n",
       "      <td>9</td>\n",
       "      <td>1</td>\n",
       "      <td>NaN</td>\n",
       "      <td>1</td>\n",
       "      <td>115</td>\n",
       "      <td>62</td>\n",
       "      <td>NaN</td>\n",
       "      <td>NaN</td>\n",
       "      <td>2</td>\n",
       "    </tr>\n",
       "    <tr>\n",
       "      <th>top</th>\n",
       "      <td>NaN</td>\n",
       "      <td>NaN</td>\n",
       "      <td>NaN</td>\n",
       "      <td>NaN</td>\n",
       "      <td>NaN</td>\n",
       "      <td>NaN</td>\n",
       "      <td>1780512</td>\n",
       "      <td>Matched</td>\n",
       "      <td>Block</td>\n",
       "      <td>NaN</td>\n",
       "      <td>...</td>\n",
       "      <td>Dry</td>\n",
       "      <td>Daylight</td>\n",
       "      <td>Y</td>\n",
       "      <td>NaN</td>\n",
       "      <td>Y</td>\n",
       "      <td>32</td>\n",
       "      <td>One parked--one moving</td>\n",
       "      <td>NaN</td>\n",
       "      <td>NaN</td>\n",
       "      <td>N</td>\n",
       "    </tr>\n",
       "    <tr>\n",
       "      <th>freq</th>\n",
       "      <td>NaN</td>\n",
       "      <td>NaN</td>\n",
       "      <td>NaN</td>\n",
       "      <td>NaN</td>\n",
       "      <td>NaN</td>\n",
       "      <td>NaN</td>\n",
       "      <td>2</td>\n",
       "      <td>189786</td>\n",
       "      <td>126926</td>\n",
       "      <td>NaN</td>\n",
       "      <td>...</td>\n",
       "      <td>124510</td>\n",
       "      <td>116137</td>\n",
       "      <td>4667</td>\n",
       "      <td>NaN</td>\n",
       "      <td>9333</td>\n",
       "      <td>27612</td>\n",
       "      <td>44421</td>\n",
       "      <td>NaN</td>\n",
       "      <td>NaN</td>\n",
       "      <td>187457</td>\n",
       "    </tr>\n",
       "    <tr>\n",
       "      <th>mean</th>\n",
       "      <td>1.298901</td>\n",
       "      <td>-122.330518</td>\n",
       "      <td>47.619543</td>\n",
       "      <td>108479.364930</td>\n",
       "      <td>141091.456350</td>\n",
       "      <td>141298.811381</td>\n",
       "      <td>NaN</td>\n",
       "      <td>NaN</td>\n",
       "      <td>NaN</td>\n",
       "      <td>37558.450576</td>\n",
       "      <td>...</td>\n",
       "      <td>NaN</td>\n",
       "      <td>NaN</td>\n",
       "      <td>NaN</td>\n",
       "      <td>7.972521e+06</td>\n",
       "      <td>NaN</td>\n",
       "      <td>NaN</td>\n",
       "      <td>NaN</td>\n",
       "      <td>269.401114</td>\n",
       "      <td>9.782452e+03</td>\n",
       "      <td>NaN</td>\n",
       "    </tr>\n",
       "    <tr>\n",
       "      <th>std</th>\n",
       "      <td>0.457778</td>\n",
       "      <td>0.029976</td>\n",
       "      <td>0.056157</td>\n",
       "      <td>62649.722558</td>\n",
       "      <td>86634.402737</td>\n",
       "      <td>86986.542110</td>\n",
       "      <td>NaN</td>\n",
       "      <td>NaN</td>\n",
       "      <td>NaN</td>\n",
       "      <td>51745.990273</td>\n",
       "      <td>...</td>\n",
       "      <td>NaN</td>\n",
       "      <td>NaN</td>\n",
       "      <td>NaN</td>\n",
       "      <td>2.553533e+06</td>\n",
       "      <td>NaN</td>\n",
       "      <td>NaN</td>\n",
       "      <td>NaN</td>\n",
       "      <td>3315.776055</td>\n",
       "      <td>7.226926e+04</td>\n",
       "      <td>NaN</td>\n",
       "    </tr>\n",
       "    <tr>\n",
       "      <th>min</th>\n",
       "      <td>1.000000</td>\n",
       "      <td>-122.419091</td>\n",
       "      <td>47.495573</td>\n",
       "      <td>1.000000</td>\n",
       "      <td>1001.000000</td>\n",
       "      <td>1001.000000</td>\n",
       "      <td>NaN</td>\n",
       "      <td>NaN</td>\n",
       "      <td>NaN</td>\n",
       "      <td>23807.000000</td>\n",
       "      <td>...</td>\n",
       "      <td>NaN</td>\n",
       "      <td>NaN</td>\n",
       "      <td>NaN</td>\n",
       "      <td>1.007024e+06</td>\n",
       "      <td>NaN</td>\n",
       "      <td>NaN</td>\n",
       "      <td>NaN</td>\n",
       "      <td>0.000000</td>\n",
       "      <td>0.000000e+00</td>\n",
       "      <td>NaN</td>\n",
       "    </tr>\n",
       "    <tr>\n",
       "      <th>25%</th>\n",
       "      <td>1.000000</td>\n",
       "      <td>-122.348673</td>\n",
       "      <td>47.575956</td>\n",
       "      <td>54267.000000</td>\n",
       "      <td>70383.000000</td>\n",
       "      <td>70383.000000</td>\n",
       "      <td>NaN</td>\n",
       "      <td>NaN</td>\n",
       "      <td>NaN</td>\n",
       "      <td>28667.000000</td>\n",
       "      <td>...</td>\n",
       "      <td>NaN</td>\n",
       "      <td>NaN</td>\n",
       "      <td>NaN</td>\n",
       "      <td>6.040015e+06</td>\n",
       "      <td>NaN</td>\n",
       "      <td>NaN</td>\n",
       "      <td>NaN</td>\n",
       "      <td>0.000000</td>\n",
       "      <td>0.000000e+00</td>\n",
       "      <td>NaN</td>\n",
       "    </tr>\n",
       "    <tr>\n",
       "      <th>50%</th>\n",
       "      <td>1.000000</td>\n",
       "      <td>-122.330224</td>\n",
       "      <td>47.615369</td>\n",
       "      <td>106912.000000</td>\n",
       "      <td>123363.000000</td>\n",
       "      <td>123363.000000</td>\n",
       "      <td>NaN</td>\n",
       "      <td>NaN</td>\n",
       "      <td>NaN</td>\n",
       "      <td>29973.000000</td>\n",
       "      <td>...</td>\n",
       "      <td>NaN</td>\n",
       "      <td>NaN</td>\n",
       "      <td>NaN</td>\n",
       "      <td>8.023022e+06</td>\n",
       "      <td>NaN</td>\n",
       "      <td>NaN</td>\n",
       "      <td>NaN</td>\n",
       "      <td>0.000000</td>\n",
       "      <td>0.000000e+00</td>\n",
       "      <td>NaN</td>\n",
       "    </tr>\n",
       "    <tr>\n",
       "      <th>75%</th>\n",
       "      <td>2.000000</td>\n",
       "      <td>-122.311937</td>\n",
       "      <td>47.663664</td>\n",
       "      <td>162272.000000</td>\n",
       "      <td>203319.000000</td>\n",
       "      <td>203459.000000</td>\n",
       "      <td>NaN</td>\n",
       "      <td>NaN</td>\n",
       "      <td>NaN</td>\n",
       "      <td>33973.000000</td>\n",
       "      <td>...</td>\n",
       "      <td>NaN</td>\n",
       "      <td>NaN</td>\n",
       "      <td>NaN</td>\n",
       "      <td>1.015501e+07</td>\n",
       "      <td>NaN</td>\n",
       "      <td>NaN</td>\n",
       "      <td>NaN</td>\n",
       "      <td>0.000000</td>\n",
       "      <td>0.000000e+00</td>\n",
       "      <td>NaN</td>\n",
       "    </tr>\n",
       "    <tr>\n",
       "      <th>max</th>\n",
       "      <td>2.000000</td>\n",
       "      <td>-122.238949</td>\n",
       "      <td>47.734142</td>\n",
       "      <td>219547.000000</td>\n",
       "      <td>331454.000000</td>\n",
       "      <td>332954.000000</td>\n",
       "      <td>NaN</td>\n",
       "      <td>NaN</td>\n",
       "      <td>NaN</td>\n",
       "      <td>757580.000000</td>\n",
       "      <td>...</td>\n",
       "      <td>NaN</td>\n",
       "      <td>NaN</td>\n",
       "      <td>NaN</td>\n",
       "      <td>1.307202e+07</td>\n",
       "      <td>NaN</td>\n",
       "      <td>NaN</td>\n",
       "      <td>NaN</td>\n",
       "      <td>525241.000000</td>\n",
       "      <td>5.239700e+06</td>\n",
       "      <td>NaN</td>\n",
       "    </tr>\n",
       "  </tbody>\n",
       "</table>\n",
       "<p>11 rows × 38 columns</p>\n",
       "</div>"
      ],
      "text/plain": [
       "         SEVERITYCODE              X              Y       OBJECTID  \\\n",
       "count   194673.000000  189339.000000  189339.000000  194673.000000   \n",
       "unique            NaN            NaN            NaN            NaN   \n",
       "top               NaN            NaN            NaN            NaN   \n",
       "freq              NaN            NaN            NaN            NaN   \n",
       "mean         1.298901    -122.330518      47.619543  108479.364930   \n",
       "std          0.457778       0.029976       0.056157   62649.722558   \n",
       "min          1.000000    -122.419091      47.495573       1.000000   \n",
       "25%          1.000000    -122.348673      47.575956   54267.000000   \n",
       "50%          1.000000    -122.330224      47.615369  106912.000000   \n",
       "75%          2.000000    -122.311937      47.663664  162272.000000   \n",
       "max          2.000000    -122.238949      47.734142  219547.000000   \n",
       "\n",
       "               INCKEY      COLDETKEY REPORTNO   STATUS ADDRTYPE  \\\n",
       "count   194673.000000  194673.000000   194673   194673   192747   \n",
       "unique            NaN            NaN   194670        2        3   \n",
       "top               NaN            NaN  1780512  Matched    Block   \n",
       "freq              NaN            NaN        2   189786   126926   \n",
       "mean    141091.456350  141298.811381      NaN      NaN      NaN   \n",
       "std      86634.402737   86986.542110      NaN      NaN      NaN   \n",
       "min       1001.000000    1001.000000      NaN      NaN      NaN   \n",
       "25%      70383.000000   70383.000000      NaN      NaN      NaN   \n",
       "50%     123363.000000  123363.000000      NaN      NaN      NaN   \n",
       "75%     203319.000000  203459.000000      NaN      NaN      NaN   \n",
       "max     331454.000000  332954.000000      NaN      NaN      NaN   \n",
       "\n",
       "               INTKEY  ... ROADCOND LIGHTCOND PEDROWNOTGRNT    SDOTCOLNUM  \\\n",
       "count    65070.000000  ...   189661    189503          4667  1.149360e+05   \n",
       "unique            NaN  ...        9         9             1           NaN   \n",
       "top               NaN  ...      Dry  Daylight             Y           NaN   \n",
       "freq              NaN  ...   124510    116137          4667           NaN   \n",
       "mean     37558.450576  ...      NaN       NaN           NaN  7.972521e+06   \n",
       "std      51745.990273  ...      NaN       NaN           NaN  2.553533e+06   \n",
       "min      23807.000000  ...      NaN       NaN           NaN  1.007024e+06   \n",
       "25%      28667.000000  ...      NaN       NaN           NaN  6.040015e+06   \n",
       "50%      29973.000000  ...      NaN       NaN           NaN  8.023022e+06   \n",
       "75%      33973.000000  ...      NaN       NaN           NaN  1.015501e+07   \n",
       "max     757580.000000  ...      NaN       NaN           NaN  1.307202e+07   \n",
       "\n",
       "       SPEEDING ST_COLCODE              ST_COLDESC     SEGLANEKEY  \\\n",
       "count      9333     194655                  189769  194673.000000   \n",
       "unique        1        115                      62            NaN   \n",
       "top           Y         32  One parked--one moving            NaN   \n",
       "freq       9333      27612                   44421            NaN   \n",
       "mean        NaN        NaN                     NaN     269.401114   \n",
       "std         NaN        NaN                     NaN    3315.776055   \n",
       "min         NaN        NaN                     NaN       0.000000   \n",
       "25%         NaN        NaN                     NaN       0.000000   \n",
       "50%         NaN        NaN                     NaN       0.000000   \n",
       "75%         NaN        NaN                     NaN       0.000000   \n",
       "max         NaN        NaN                     NaN  525241.000000   \n",
       "\n",
       "        CROSSWALKKEY  HITPARKEDCAR  \n",
       "count   1.946730e+05        194673  \n",
       "unique           NaN             2  \n",
       "top              NaN             N  \n",
       "freq             NaN        187457  \n",
       "mean    9.782452e+03           NaN  \n",
       "std     7.226926e+04           NaN  \n",
       "min     0.000000e+00           NaN  \n",
       "25%     0.000000e+00           NaN  \n",
       "50%     0.000000e+00           NaN  \n",
       "75%     0.000000e+00           NaN  \n",
       "max     5.239700e+06           NaN  \n",
       "\n",
       "[11 rows x 38 columns]"
      ]
     },
     "execution_count": 6,
     "metadata": {},
     "output_type": "execute_result"
    }
   ],
   "source": [
    "data.compute().describe(include = 'all')"
   ]
  },
  {
   "cell_type": "markdown",
   "metadata": {},
   "source": [
    "#### Cheeck if target data is balanced or imbalanced"
   ]
  },
  {
   "cell_type": "code",
   "execution_count": 7,
   "metadata": {},
   "outputs": [
    {
     "name": "stderr",
     "output_type": "stream",
     "text": [
      "C:\\ProgramData\\Anaconda3\\lib\\site-packages\\dask\\core.py:118: DtypeWarning: Columns (33) have mixed types.Specify dtype option on import or set low_memory=False.\n",
      "  args2 = [_execute_task(a, cache) for a in args]\n"
     ]
    },
    {
     "data": {
      "text/plain": [
       "1    136485\n",
       "2     58188\n",
       "Name: SEVERITYCODE, dtype: int64"
      ]
     },
     "execution_count": 7,
     "metadata": {},
     "output_type": "execute_result"
    }
   ],
   "source": [
    "data.SEVERITYCODE.value_counts().compute()"
   ]
  },
  {
   "cell_type": "markdown",
   "metadata": {},
   "source": [
    "#### Features of the data"
   ]
  },
  {
   "cell_type": "code",
   "execution_count": 8,
   "metadata": {},
   "outputs": [
    {
     "data": {
      "text/plain": [
       "Index(['SEVERITYCODE', 'X', 'Y', 'OBJECTID', 'INCKEY', 'COLDETKEY', 'REPORTNO',\n",
       "       'STATUS', 'ADDRTYPE', 'INTKEY', 'LOCATION', 'EXCEPTRSNCODE',\n",
       "       'EXCEPTRSNDESC', 'SEVERITYCODE.1', 'SEVERITYDESC', 'COLLISIONTYPE',\n",
       "       'PERSONCOUNT', 'PEDCOUNT', 'PEDCYLCOUNT', 'VEHCOUNT', 'INCDATE',\n",
       "       'INCDTTM', 'JUNCTIONTYPE', 'SDOT_COLCODE', 'SDOT_COLDESC',\n",
       "       'INATTENTIONIND', 'UNDERINFL', 'WEATHER', 'ROADCOND', 'LIGHTCOND',\n",
       "       'PEDROWNOTGRNT', 'SDOTCOLNUM', 'SPEEDING', 'ST_COLCODE', 'ST_COLDESC',\n",
       "       'SEGLANEKEY', 'CROSSWALKKEY', 'HITPARKEDCAR'],\n",
       "      dtype='object')"
      ]
     },
     "execution_count": 8,
     "metadata": {},
     "output_type": "execute_result"
    }
   ],
   "source": [
    "data.columns"
   ]
  },
  {
   "cell_type": "markdown",
   "metadata": {},
   "source": [
    "### TOO MANY FEATURES,, ONLY KEEP FEW\n",
    "ADDRTYPE\n",
    "\n",
    "LOCATION\n",
    "\n",
    "SEVERITYCODE\n",
    "\n",
    "COLLISIONTYPE\n",
    "\n",
    "PERSONCOUNT\n",
    "\n",
    "PEDCOUNT\n",
    "\n",
    "PEDCYLCOUNT\n",
    "\n",
    "VEHCOUNT\n",
    "\n",
    "INJURIES\n",
    "\n",
    "SERIOUSINJURIES\n",
    "\n",
    "FATALITIES\n",
    "\n",
    "JUNCTIONTYPE\n",
    "\n",
    "INATTENTIONIND\n",
    "\n",
    "UNDERINFL\n",
    "\n",
    "WEATHER\n",
    "\n",
    "ROADCOND\n",
    "\n",
    "LIGHTCOND\n",
    "\n",
    "PEDROWNOTGRNT\n",
    "\n",
    "SPEEDING\n",
    "\n",
    "HITPARKEDCAR\n"
   ]
  },
  {
   "cell_type": "code",
   "execution_count": 9,
   "metadata": {},
   "outputs": [],
   "source": [
    "features = [ 'ADDRTYPE', 'LOCATION','COLLISIONTYPE', 'PERSONCOUNT', 'VEHCOUNT', 'JUNCTIONTYPE',\n",
    "'INATTENTIONIND', 'UNDERINFL', 'WEATHER',\n",
    "'ROADCOND', 'LIGHTCOND', 'PEDROWNOTGRNT',\n",
    "'SPEEDING', 'HITPARKEDCAR', 'SEVERITYCODE']"
   ]
  },
  {
   "cell_type": "code",
   "execution_count": 10,
   "metadata": {},
   "outputs": [
    {
     "name": "stderr",
     "output_type": "stream",
     "text": [
      "C:\\ProgramData\\Anaconda3\\lib\\site-packages\\dask\\core.py:118: DtypeWarning: Columns (33) have mixed types.Specify dtype option on import or set low_memory=False.\n",
      "  args2 = [_execute_task(a, cache) for a in args]\n"
     ]
    }
   ],
   "source": [
    "featured_data = data[features].compute()"
   ]
  },
  {
   "cell_type": "markdown",
   "metadata": {},
   "source": [
    "#### Data types of the features"
   ]
  },
  {
   "cell_type": "code",
   "execution_count": 11,
   "metadata": {},
   "outputs": [
    {
     "data": {
      "text/plain": [
       "ADDRTYPE          object\n",
       "LOCATION          object\n",
       "COLLISIONTYPE     object\n",
       "PERSONCOUNT        int64\n",
       "VEHCOUNT           int64\n",
       "JUNCTIONTYPE      object\n",
       "INATTENTIONIND    object\n",
       "UNDERINFL         object\n",
       "WEATHER           object\n",
       "ROADCOND          object\n",
       "LIGHTCOND         object\n",
       "PEDROWNOTGRNT     object\n",
       "SPEEDING          object\n",
       "HITPARKEDCAR      object\n",
       "SEVERITYCODE       int64\n",
       "dtype: object"
      ]
     },
     "execution_count": 11,
     "metadata": {},
     "output_type": "execute_result"
    }
   ],
   "source": [
    "featured_data.dtypes"
   ]
  },
  {
   "cell_type": "markdown",
   "metadata": {},
   "source": [
    "#### Check for missing values"
   ]
  },
  {
   "cell_type": "code",
   "execution_count": 12,
   "metadata": {},
   "outputs": [
    {
     "data": {
      "text/plain": [
       "ADDRTYPE            1926\n",
       "LOCATION            2677\n",
       "COLLISIONTYPE       4904\n",
       "PERSONCOUNT            0\n",
       "VEHCOUNT               0\n",
       "JUNCTIONTYPE        6329\n",
       "INATTENTIONIND    164868\n",
       "UNDERINFL           4884\n",
       "WEATHER             5081\n",
       "ROADCOND            5012\n",
       "LIGHTCOND           5170\n",
       "PEDROWNOTGRNT     190006\n",
       "SPEEDING          185340\n",
       "HITPARKEDCAR           0\n",
       "SEVERITYCODE           0\n",
       "dtype: int64"
      ]
     },
     "execution_count": 12,
     "metadata": {},
     "output_type": "execute_result"
    }
   ],
   "source": [
    "featured_data.isnull().sum()"
   ]
  },
  {
   "cell_type": "markdown",
   "metadata": {},
   "source": [
    "#### Check for memory usage"
   ]
  },
  {
   "cell_type": "code",
   "execution_count": 13,
   "metadata": {},
   "outputs": [
    {
     "name": "stdout",
     "output_type": "stream",
     "text": [
      "<class 'pandas.core.frame.DataFrame'>\n",
      "Int64Index: 194673 entries, 0 to 26415\n",
      "Columns: 15 entries, ADDRTYPE to SEVERITYCODE\n",
      "dtypes: int64(3), object(12)\n",
      "memory usage: 142.2 MB\n"
     ]
    }
   ],
   "source": [
    "featured_data.info(verbose=False, memory_usage=\"deep\")"
   ]
  },
  {
   "cell_type": "markdown",
   "metadata": {},
   "source": [
    "#### Viewing the data after selecting features"
   ]
  },
  {
   "cell_type": "code",
   "execution_count": 14,
   "metadata": {},
   "outputs": [
    {
     "data": {
      "text/html": [
       "<div>\n",
       "<style scoped>\n",
       "    .dataframe tbody tr th:only-of-type {\n",
       "        vertical-align: middle;\n",
       "    }\n",
       "\n",
       "    .dataframe tbody tr th {\n",
       "        vertical-align: top;\n",
       "    }\n",
       "\n",
       "    .dataframe thead th {\n",
       "        text-align: right;\n",
       "    }\n",
       "</style>\n",
       "<table border=\"1\" class=\"dataframe\">\n",
       "  <thead>\n",
       "    <tr style=\"text-align: right;\">\n",
       "      <th></th>\n",
       "      <th>ADDRTYPE</th>\n",
       "      <th>LOCATION</th>\n",
       "      <th>COLLISIONTYPE</th>\n",
       "      <th>PERSONCOUNT</th>\n",
       "      <th>VEHCOUNT</th>\n",
       "      <th>JUNCTIONTYPE</th>\n",
       "      <th>INATTENTIONIND</th>\n",
       "      <th>UNDERINFL</th>\n",
       "      <th>WEATHER</th>\n",
       "      <th>ROADCOND</th>\n",
       "      <th>LIGHTCOND</th>\n",
       "      <th>PEDROWNOTGRNT</th>\n",
       "      <th>SPEEDING</th>\n",
       "      <th>HITPARKEDCAR</th>\n",
       "      <th>SEVERITYCODE</th>\n",
       "    </tr>\n",
       "  </thead>\n",
       "  <tbody>\n",
       "    <tr>\n",
       "      <th>0</th>\n",
       "      <td>Intersection</td>\n",
       "      <td>5TH AVE NE AND NE 103RD ST</td>\n",
       "      <td>Angles</td>\n",
       "      <td>2</td>\n",
       "      <td>2</td>\n",
       "      <td>At Intersection (intersection related)</td>\n",
       "      <td>NaN</td>\n",
       "      <td>N</td>\n",
       "      <td>Overcast</td>\n",
       "      <td>Wet</td>\n",
       "      <td>Daylight</td>\n",
       "      <td>NaN</td>\n",
       "      <td>NaN</td>\n",
       "      <td>N</td>\n",
       "      <td>2</td>\n",
       "    </tr>\n",
       "    <tr>\n",
       "      <th>1</th>\n",
       "      <td>Block</td>\n",
       "      <td>AURORA BR BETWEEN RAYE ST AND BRIDGE WAY N</td>\n",
       "      <td>Sideswipe</td>\n",
       "      <td>2</td>\n",
       "      <td>2</td>\n",
       "      <td>Mid-Block (not related to intersection)</td>\n",
       "      <td>NaN</td>\n",
       "      <td>0</td>\n",
       "      <td>Raining</td>\n",
       "      <td>Wet</td>\n",
       "      <td>Dark - Street Lights On</td>\n",
       "      <td>NaN</td>\n",
       "      <td>NaN</td>\n",
       "      <td>N</td>\n",
       "      <td>1</td>\n",
       "    </tr>\n",
       "    <tr>\n",
       "      <th>2</th>\n",
       "      <td>Block</td>\n",
       "      <td>4TH AVE BETWEEN SENECA ST AND UNIVERSITY ST</td>\n",
       "      <td>Parked Car</td>\n",
       "      <td>4</td>\n",
       "      <td>3</td>\n",
       "      <td>Mid-Block (not related to intersection)</td>\n",
       "      <td>NaN</td>\n",
       "      <td>0</td>\n",
       "      <td>Overcast</td>\n",
       "      <td>Dry</td>\n",
       "      <td>Daylight</td>\n",
       "      <td>NaN</td>\n",
       "      <td>NaN</td>\n",
       "      <td>N</td>\n",
       "      <td>1</td>\n",
       "    </tr>\n",
       "    <tr>\n",
       "      <th>3</th>\n",
       "      <td>Block</td>\n",
       "      <td>2ND AVE BETWEEN MARION ST AND MADISON ST</td>\n",
       "      <td>Other</td>\n",
       "      <td>3</td>\n",
       "      <td>3</td>\n",
       "      <td>Mid-Block (not related to intersection)</td>\n",
       "      <td>NaN</td>\n",
       "      <td>N</td>\n",
       "      <td>Clear</td>\n",
       "      <td>Dry</td>\n",
       "      <td>Daylight</td>\n",
       "      <td>NaN</td>\n",
       "      <td>NaN</td>\n",
       "      <td>N</td>\n",
       "      <td>1</td>\n",
       "    </tr>\n",
       "    <tr>\n",
       "      <th>4</th>\n",
       "      <td>Intersection</td>\n",
       "      <td>SWIFT AVE S AND SWIFT AV OFF RP</td>\n",
       "      <td>Angles</td>\n",
       "      <td>2</td>\n",
       "      <td>2</td>\n",
       "      <td>At Intersection (intersection related)</td>\n",
       "      <td>NaN</td>\n",
       "      <td>0</td>\n",
       "      <td>Raining</td>\n",
       "      <td>Wet</td>\n",
       "      <td>Daylight</td>\n",
       "      <td>NaN</td>\n",
       "      <td>NaN</td>\n",
       "      <td>N</td>\n",
       "      <td>2</td>\n",
       "    </tr>\n",
       "  </tbody>\n",
       "</table>\n",
       "</div>"
      ],
      "text/plain": [
       "       ADDRTYPE                                     LOCATION COLLISIONTYPE  \\\n",
       "0  Intersection                   5TH AVE NE AND NE 103RD ST        Angles   \n",
       "1         Block   AURORA BR BETWEEN RAYE ST AND BRIDGE WAY N     Sideswipe   \n",
       "2         Block  4TH AVE BETWEEN SENECA ST AND UNIVERSITY ST    Parked Car   \n",
       "3         Block     2ND AVE BETWEEN MARION ST AND MADISON ST         Other   \n",
       "4  Intersection              SWIFT AVE S AND SWIFT AV OFF RP        Angles   \n",
       "\n",
       "   PERSONCOUNT  VEHCOUNT                             JUNCTIONTYPE  \\\n",
       "0            2         2   At Intersection (intersection related)   \n",
       "1            2         2  Mid-Block (not related to intersection)   \n",
       "2            4         3  Mid-Block (not related to intersection)   \n",
       "3            3         3  Mid-Block (not related to intersection)   \n",
       "4            2         2   At Intersection (intersection related)   \n",
       "\n",
       "  INATTENTIONIND UNDERINFL   WEATHER ROADCOND                LIGHTCOND  \\\n",
       "0            NaN         N  Overcast      Wet                 Daylight   \n",
       "1            NaN         0   Raining      Wet  Dark - Street Lights On   \n",
       "2            NaN         0  Overcast      Dry                 Daylight   \n",
       "3            NaN         N     Clear      Dry                 Daylight   \n",
       "4            NaN         0   Raining      Wet                 Daylight   \n",
       "\n",
       "  PEDROWNOTGRNT SPEEDING HITPARKEDCAR  SEVERITYCODE  \n",
       "0           NaN      NaN            N             2  \n",
       "1           NaN      NaN            N             1  \n",
       "2           NaN      NaN            N             1  \n",
       "3           NaN      NaN            N             1  \n",
       "4           NaN      NaN            N             2  "
      ]
     },
     "execution_count": 14,
     "metadata": {},
     "output_type": "execute_result"
    }
   ],
   "source": [
    "featured_data.head()"
   ]
  },
  {
   "cell_type": "markdown",
   "metadata": {},
   "source": [
    "### DEALING WITH MISSING VALUES"
   ]
  },
  {
   "cell_type": "markdown",
   "metadata": {},
   "source": [
    "#### Check missing values"
   ]
  },
  {
   "cell_type": "code",
   "execution_count": 15,
   "metadata": {},
   "outputs": [
    {
     "data": {
      "text/plain": [
       "ADDRTYPE            1926\n",
       "LOCATION            2677\n",
       "COLLISIONTYPE       4904\n",
       "PERSONCOUNT            0\n",
       "VEHCOUNT               0\n",
       "JUNCTIONTYPE        6329\n",
       "INATTENTIONIND    164868\n",
       "UNDERINFL           4884\n",
       "WEATHER             5081\n",
       "ROADCOND            5012\n",
       "LIGHTCOND           5170\n",
       "PEDROWNOTGRNT     190006\n",
       "SPEEDING          185340\n",
       "HITPARKEDCAR           0\n",
       "SEVERITYCODE           0\n",
       "dtype: int64"
      ]
     },
     "execution_count": 15,
     "metadata": {},
     "output_type": "execute_result"
    }
   ],
   "source": [
    "featured_data.isnull().sum()"
   ]
  },
  {
   "cell_type": "markdown",
   "metadata": {},
   "source": [
    "#### ADDRTYPE"
   ]
  },
  {
   "cell_type": "code",
   "execution_count": 16,
   "metadata": {},
   "outputs": [
    {
     "data": {
      "text/plain": [
       "array(['Intersection', 'Block', 'Alley', nan], dtype=object)"
      ]
     },
     "execution_count": 16,
     "metadata": {},
     "output_type": "execute_result"
    }
   ],
   "source": [
    "featured_data.ADDRTYPE.unique()"
   ]
  },
  {
   "cell_type": "code",
   "execution_count": 17,
   "metadata": {},
   "outputs": [],
   "source": [
    "featured_data = featured_data.dropna(subset = ['ADDRTYPE'])"
   ]
  },
  {
   "cell_type": "code",
   "execution_count": 18,
   "metadata": {},
   "outputs": [
    {
     "data": {
      "text/plain": [
       "ADDRTYPE               0\n",
       "LOCATION             751\n",
       "COLLISIONTYPE       4797\n",
       "PERSONCOUNT            0\n",
       "VEHCOUNT               0\n",
       "JUNCTIONTYPE        4733\n",
       "INATTENTIONIND    163076\n",
       "UNDERINFL           4777\n",
       "WEATHER             4971\n",
       "ROADCOND            4903\n",
       "LIGHTCOND           5058\n",
       "PEDROWNOTGRNT     188083\n",
       "SPEEDING          183468\n",
       "HITPARKEDCAR           0\n",
       "SEVERITYCODE           0\n",
       "dtype: int64"
      ]
     },
     "execution_count": 18,
     "metadata": {},
     "output_type": "execute_result"
    }
   ],
   "source": [
    "featured_data.isnull().sum()"
   ]
  },
  {
   "cell_type": "markdown",
   "metadata": {},
   "source": [
    "#### LOCATION"
   ]
  },
  {
   "cell_type": "code",
   "execution_count": 19,
   "metadata": {},
   "outputs": [
    {
     "data": {
      "text/plain": [
       "array(['5TH AVE NE AND NE 103RD ST',\n",
       "       'AURORA BR BETWEEN RAYE ST AND BRIDGE WAY N',\n",
       "       '4TH AVE BETWEEN SENECA ST AND UNIVERSITY ST', ...,\n",
       "       '47TH AVE SW AND SW 98TH ST', 'NE PARK RD AND NE RAVENNA WB BV',\n",
       "       'PUGET BLVD SW BETWEEN SW HUDSON ST AND DEAD END 1'], dtype=object)"
      ]
     },
     "execution_count": 19,
     "metadata": {},
     "output_type": "execute_result"
    }
   ],
   "source": [
    "featured_data.LOCATION.unique()"
   ]
  },
  {
   "cell_type": "code",
   "execution_count": 20,
   "metadata": {},
   "outputs": [],
   "source": [
    "featured_data.dropna(subset = ['LOCATION'], inplace = True)"
   ]
  },
  {
   "cell_type": "code",
   "execution_count": 21,
   "metadata": {},
   "outputs": [
    {
     "data": {
      "text/plain": [
       "ADDRTYPE               0\n",
       "LOCATION               0\n",
       "COLLISIONTYPE       4793\n",
       "PERSONCOUNT            0\n",
       "VEHCOUNT               0\n",
       "JUNCTIONTYPE        4218\n",
       "INATTENTIONIND    162416\n",
       "UNDERINFL           4773\n",
       "WEATHER             4963\n",
       "ROADCOND            4896\n",
       "LIGHTCOND           5052\n",
       "PEDROWNOTGRNT     187341\n",
       "SPEEDING          182750\n",
       "HITPARKEDCAR           0\n",
       "SEVERITYCODE           0\n",
       "dtype: int64"
      ]
     },
     "execution_count": 21,
     "metadata": {},
     "output_type": "execute_result"
    }
   ],
   "source": [
    "featured_data.isnull().sum()"
   ]
  },
  {
   "cell_type": "markdown",
   "metadata": {},
   "source": [
    "#### COLLISIONTYPE"
   ]
  },
  {
   "cell_type": "code",
   "execution_count": 22,
   "metadata": {},
   "outputs": [
    {
     "data": {
      "text/plain": [
       "array(['5TH AVE NE AND NE 103RD ST',\n",
       "       'AURORA BR BETWEEN RAYE ST AND BRIDGE WAY N',\n",
       "       '4TH AVE BETWEEN SENECA ST AND UNIVERSITY ST', ...,\n",
       "       '47TH AVE SW AND SW 98TH ST', 'NE PARK RD AND NE RAVENNA WB BV',\n",
       "       'PUGET BLVD SW BETWEEN SW HUDSON ST AND DEAD END 1'], dtype=object)"
      ]
     },
     "execution_count": 22,
     "metadata": {},
     "output_type": "execute_result"
    }
   ],
   "source": [
    "featured_data.LOCATION.unique()"
   ]
  },
  {
   "cell_type": "code",
   "execution_count": 23,
   "metadata": {},
   "outputs": [],
   "source": [
    "featured_data.dropna(subset = ['COLLISIONTYPE'], inplace = True)"
   ]
  },
  {
   "cell_type": "code",
   "execution_count": 24,
   "metadata": {},
   "outputs": [
    {
     "data": {
      "text/plain": [
       "ADDRTYPE               0\n",
       "LOCATION               0\n",
       "COLLISIONTYPE          0\n",
       "PERSONCOUNT            0\n",
       "VEHCOUNT               0\n",
       "JUNCTIONTYPE        4128\n",
       "INATTENTIONIND    157625\n",
       "UNDERINFL              1\n",
       "WEATHER              191\n",
       "ROADCOND             124\n",
       "LIGHTCOND            280\n",
       "PEDROWNOTGRNT     182551\n",
       "SPEEDING          177958\n",
       "HITPARKEDCAR           0\n",
       "SEVERITYCODE           0\n",
       "dtype: int64"
      ]
     },
     "execution_count": 24,
     "metadata": {},
     "output_type": "execute_result"
    }
   ],
   "source": [
    "featured_data.isnull().sum()"
   ]
  },
  {
   "cell_type": "markdown",
   "metadata": {},
   "source": [
    "#### JUNCTIONTYPE"
   ]
  },
  {
   "cell_type": "code",
   "execution_count": 25,
   "metadata": {},
   "outputs": [
    {
     "data": {
      "text/plain": [
       "array(['5TH AVE NE AND NE 103RD ST',\n",
       "       'AURORA BR BETWEEN RAYE ST AND BRIDGE WAY N',\n",
       "       '4TH AVE BETWEEN SENECA ST AND UNIVERSITY ST', ...,\n",
       "       '47TH AVE SW AND SW 98TH ST', 'NE PARK RD AND NE RAVENNA WB BV',\n",
       "       'PUGET BLVD SW BETWEEN SW HUDSON ST AND DEAD END 1'], dtype=object)"
      ]
     },
     "execution_count": 25,
     "metadata": {},
     "output_type": "execute_result"
    }
   ],
   "source": [
    "featured_data.LOCATION.unique()"
   ]
  },
  {
   "cell_type": "code",
   "execution_count": 26,
   "metadata": {},
   "outputs": [],
   "source": [
    "featured_data.dropna(subset = ['JUNCTIONTYPE'], inplace = True)"
   ]
  },
  {
   "cell_type": "code",
   "execution_count": 27,
   "metadata": {},
   "outputs": [
    {
     "data": {
      "text/plain": [
       "ADDRTYPE               0\n",
       "LOCATION               0\n",
       "COLLISIONTYPE          0\n",
       "PERSONCOUNT            0\n",
       "VEHCOUNT               0\n",
       "JUNCTIONTYPE           0\n",
       "INATTENTIONIND    153813\n",
       "UNDERINFL              1\n",
       "WEATHER              183\n",
       "ROADCOND             118\n",
       "LIGHTCOND            261\n",
       "PEDROWNOTGRNT     178432\n",
       "SPEEDING          173886\n",
       "HITPARKEDCAR           0\n",
       "SEVERITYCODE           0\n",
       "dtype: int64"
      ]
     },
     "execution_count": 27,
     "metadata": {},
     "output_type": "execute_result"
    }
   ],
   "source": [
    "featured_data.isnull().sum()"
   ]
  },
  {
   "cell_type": "markdown",
   "metadata": {},
   "source": [
    "####  UNDERINFL"
   ]
  },
  {
   "cell_type": "code",
   "execution_count": 28,
   "metadata": {},
   "outputs": [
    {
     "data": {
      "text/plain": [
       "array(['5TH AVE NE AND NE 103RD ST',\n",
       "       'AURORA BR BETWEEN RAYE ST AND BRIDGE WAY N',\n",
       "       '4TH AVE BETWEEN SENECA ST AND UNIVERSITY ST', ...,\n",
       "       '47TH AVE SW AND SW 98TH ST', 'NE PARK RD AND NE RAVENNA WB BV',\n",
       "       'PUGET BLVD SW BETWEEN SW HUDSON ST AND DEAD END 1'], dtype=object)"
      ]
     },
     "execution_count": 28,
     "metadata": {},
     "output_type": "execute_result"
    }
   ],
   "source": [
    "featured_data.LOCATION.unique()"
   ]
  },
  {
   "cell_type": "code",
   "execution_count": 29,
   "metadata": {},
   "outputs": [],
   "source": [
    "featured_data.INATTENTIONIND.replace(np.nan, 'UNKNOWN', inplace = True)"
   ]
  },
  {
   "cell_type": "code",
   "execution_count": 30,
   "metadata": {},
   "outputs": [
    {
     "data": {
      "text/plain": [
       "ADDRTYPE               0\n",
       "LOCATION               0\n",
       "COLLISIONTYPE          0\n",
       "PERSONCOUNT            0\n",
       "VEHCOUNT               0\n",
       "JUNCTIONTYPE           0\n",
       "INATTENTIONIND         0\n",
       "UNDERINFL              1\n",
       "WEATHER              183\n",
       "ROADCOND             118\n",
       "LIGHTCOND            261\n",
       "PEDROWNOTGRNT     178432\n",
       "SPEEDING          173886\n",
       "HITPARKEDCAR           0\n",
       "SEVERITYCODE           0\n",
       "dtype: int64"
      ]
     },
     "execution_count": 30,
     "metadata": {},
     "output_type": "execute_result"
    }
   ],
   "source": [
    "featured_data.isnull().sum()"
   ]
  },
  {
   "cell_type": "markdown",
   "metadata": {},
   "source": [
    "#### INATTENTIONID"
   ]
  },
  {
   "cell_type": "code",
   "execution_count": 31,
   "metadata": {},
   "outputs": [
    {
     "data": {
      "text/plain": [
       "array(['5TH AVE NE AND NE 103RD ST',\n",
       "       'AURORA BR BETWEEN RAYE ST AND BRIDGE WAY N',\n",
       "       '4TH AVE BETWEEN SENECA ST AND UNIVERSITY ST', ...,\n",
       "       '47TH AVE SW AND SW 98TH ST', 'NE PARK RD AND NE RAVENNA WB BV',\n",
       "       'PUGET BLVD SW BETWEEN SW HUDSON ST AND DEAD END 1'], dtype=object)"
      ]
     },
     "execution_count": 31,
     "metadata": {},
     "output_type": "execute_result"
    }
   ],
   "source": [
    "featured_data.LOCATION.unique()"
   ]
  },
  {
   "cell_type": "code",
   "execution_count": 32,
   "metadata": {},
   "outputs": [],
   "source": [
    "featured_data.UNDERINFL = featured_data.UNDERINFL.replace('0', 'N')\n",
    "featured_data.UNDERINFL = featured_data.UNDERINFL.replace( '1', 'Y')"
   ]
  },
  {
   "cell_type": "code",
   "execution_count": 33,
   "metadata": {},
   "outputs": [],
   "source": [
    "featured_data.dropna(subset = ['UNDERINFL'], inplace = True)"
   ]
  },
  {
   "cell_type": "code",
   "execution_count": 34,
   "metadata": {},
   "outputs": [
    {
     "data": {
      "text/plain": [
       "ADDRTYPE               0\n",
       "LOCATION               0\n",
       "COLLISIONTYPE          0\n",
       "PERSONCOUNT            0\n",
       "VEHCOUNT               0\n",
       "JUNCTIONTYPE           0\n",
       "INATTENTIONIND         0\n",
       "UNDERINFL              0\n",
       "WEATHER              182\n",
       "ROADCOND             117\n",
       "LIGHTCOND            260\n",
       "PEDROWNOTGRNT     178431\n",
       "SPEEDING          173885\n",
       "HITPARKEDCAR           0\n",
       "SEVERITYCODE           0\n",
       "dtype: int64"
      ]
     },
     "execution_count": 34,
     "metadata": {},
     "output_type": "execute_result"
    }
   ],
   "source": [
    "featured_data.isnull().sum()"
   ]
  },
  {
   "cell_type": "markdown",
   "metadata": {},
   "source": [
    "#### WEATHER"
   ]
  },
  {
   "cell_type": "code",
   "execution_count": 35,
   "metadata": {},
   "outputs": [
    {
     "data": {
      "text/plain": [
       "array(['5TH AVE NE AND NE 103RD ST',\n",
       "       'AURORA BR BETWEEN RAYE ST AND BRIDGE WAY N',\n",
       "       '4TH AVE BETWEEN SENECA ST AND UNIVERSITY ST', ...,\n",
       "       '47TH AVE SW AND SW 98TH ST', 'NE PARK RD AND NE RAVENNA WB BV',\n",
       "       'PUGET BLVD SW BETWEEN SW HUDSON ST AND DEAD END 1'], dtype=object)"
      ]
     },
     "execution_count": 35,
     "metadata": {},
     "output_type": "execute_result"
    }
   ],
   "source": [
    "featured_data.LOCATION.unique()"
   ]
  },
  {
   "cell_type": "code",
   "execution_count": 36,
   "metadata": {},
   "outputs": [],
   "source": [
    "featured_data.dropna(subset = ['WEATHER'], inplace = True)"
   ]
  },
  {
   "cell_type": "code",
   "execution_count": 37,
   "metadata": {},
   "outputs": [
    {
     "data": {
      "text/plain": [
       "ADDRTYPE               0\n",
       "LOCATION               0\n",
       "COLLISIONTYPE          0\n",
       "PERSONCOUNT            0\n",
       "VEHCOUNT               0\n",
       "JUNCTIONTYPE           0\n",
       "INATTENTIONIND         0\n",
       "UNDERINFL              0\n",
       "WEATHER                0\n",
       "ROADCOND              45\n",
       "LIGHTCOND            192\n",
       "PEDROWNOTGRNT     178250\n",
       "SPEEDING          173710\n",
       "HITPARKEDCAR           0\n",
       "SEVERITYCODE           0\n",
       "dtype: int64"
      ]
     },
     "execution_count": 37,
     "metadata": {},
     "output_type": "execute_result"
    }
   ],
   "source": [
    "featured_data.isnull().sum()"
   ]
  },
  {
   "cell_type": "markdown",
   "metadata": {},
   "source": [
    "####  ROADCOND"
   ]
  },
  {
   "cell_type": "code",
   "execution_count": 38,
   "metadata": {},
   "outputs": [],
   "source": [
    "featured_data.dropna(subset = ['ROADCOND'], inplace = True)"
   ]
  },
  {
   "cell_type": "code",
   "execution_count": 39,
   "metadata": {},
   "outputs": [
    {
     "data": {
      "text/plain": [
       "ADDRTYPE               0\n",
       "LOCATION               0\n",
       "COLLISIONTYPE          0\n",
       "PERSONCOUNT            0\n",
       "VEHCOUNT               0\n",
       "JUNCTIONTYPE           0\n",
       "INATTENTIONIND         0\n",
       "UNDERINFL              0\n",
       "WEATHER                0\n",
       "ROADCOND               0\n",
       "LIGHTCOND            187\n",
       "PEDROWNOTGRNT     178205\n",
       "SPEEDING          173666\n",
       "HITPARKEDCAR           0\n",
       "SEVERITYCODE           0\n",
       "dtype: int64"
      ]
     },
     "execution_count": 39,
     "metadata": {},
     "output_type": "execute_result"
    }
   ],
   "source": [
    "featured_data.isnull().sum()"
   ]
  },
  {
   "cell_type": "markdown",
   "metadata": {},
   "source": [
    "#### LIGHTCOND"
   ]
  },
  {
   "cell_type": "code",
   "execution_count": 40,
   "metadata": {},
   "outputs": [
    {
     "data": {
      "text/plain": [
       "array(['5TH AVE NE AND NE 103RD ST',\n",
       "       'AURORA BR BETWEEN RAYE ST AND BRIDGE WAY N',\n",
       "       '4TH AVE BETWEEN SENECA ST AND UNIVERSITY ST', ...,\n",
       "       '47TH AVE SW AND SW 98TH ST', 'NE PARK RD AND NE RAVENNA WB BV',\n",
       "       'PUGET BLVD SW BETWEEN SW HUDSON ST AND DEAD END 1'], dtype=object)"
      ]
     },
     "execution_count": 40,
     "metadata": {},
     "output_type": "execute_result"
    }
   ],
   "source": [
    "featured_data.LOCATION.unique()"
   ]
  },
  {
   "cell_type": "code",
   "execution_count": 41,
   "metadata": {},
   "outputs": [],
   "source": [
    "featured_data.dropna(subset = ['LIGHTCOND'], inplace = True)"
   ]
  },
  {
   "cell_type": "code",
   "execution_count": 42,
   "metadata": {},
   "outputs": [
    {
     "data": {
      "text/plain": [
       "ADDRTYPE               0\n",
       "LOCATION               0\n",
       "COLLISIONTYPE          0\n",
       "PERSONCOUNT            0\n",
       "VEHCOUNT               0\n",
       "JUNCTIONTYPE           0\n",
       "INATTENTIONIND         0\n",
       "UNDERINFL              0\n",
       "WEATHER                0\n",
       "ROADCOND               0\n",
       "LIGHTCOND              0\n",
       "PEDROWNOTGRNT     178019\n",
       "SPEEDING          173484\n",
       "HITPARKEDCAR           0\n",
       "SEVERITYCODE           0\n",
       "dtype: int64"
      ]
     },
     "execution_count": 42,
     "metadata": {},
     "output_type": "execute_result"
    }
   ],
   "source": [
    "featured_data.isnull().sum()"
   ]
  },
  {
   "cell_type": "markdown",
   "metadata": {},
   "source": [
    "#### PEDROWNOTGRNT"
   ]
  },
  {
   "cell_type": "code",
   "execution_count": 43,
   "metadata": {},
   "outputs": [
    {
     "data": {
      "text/plain": [
       "array(['5TH AVE NE AND NE 103RD ST',\n",
       "       'AURORA BR BETWEEN RAYE ST AND BRIDGE WAY N',\n",
       "       '4TH AVE BETWEEN SENECA ST AND UNIVERSITY ST', ...,\n",
       "       '47TH AVE SW AND SW 98TH ST', 'NE PARK RD AND NE RAVENNA WB BV',\n",
       "       'PUGET BLVD SW BETWEEN SW HUDSON ST AND DEAD END 1'], dtype=object)"
      ]
     },
     "execution_count": 43,
     "metadata": {},
     "output_type": "execute_result"
    }
   ],
   "source": [
    "featured_data.LOCATION.unique()"
   ]
  },
  {
   "cell_type": "code",
   "execution_count": 44,
   "metadata": {},
   "outputs": [],
   "source": [
    "featured_data.drop('PEDROWNOTGRNT', axis = 1, inplace = True)"
   ]
  },
  {
   "cell_type": "code",
   "execution_count": 45,
   "metadata": {},
   "outputs": [
    {
     "data": {
      "text/plain": [
       "ADDRTYPE               0\n",
       "LOCATION               0\n",
       "COLLISIONTYPE          0\n",
       "PERSONCOUNT            0\n",
       "VEHCOUNT               0\n",
       "JUNCTIONTYPE           0\n",
       "INATTENTIONIND         0\n",
       "UNDERINFL              0\n",
       "WEATHER                0\n",
       "ROADCOND               0\n",
       "LIGHTCOND              0\n",
       "SPEEDING          173484\n",
       "HITPARKEDCAR           0\n",
       "SEVERITYCODE           0\n",
       "dtype: int64"
      ]
     },
     "execution_count": 45,
     "metadata": {},
     "output_type": "execute_result"
    }
   ],
   "source": [
    "featured_data.isnull().sum()"
   ]
  },
  {
   "cell_type": "markdown",
   "metadata": {},
   "source": [
    "#### SPEEDING"
   ]
  },
  {
   "cell_type": "code",
   "execution_count": 46,
   "metadata": {},
   "outputs": [
    {
     "data": {
      "text/plain": [
       "array(['5TH AVE NE AND NE 103RD ST',\n",
       "       'AURORA BR BETWEEN RAYE ST AND BRIDGE WAY N',\n",
       "       '4TH AVE BETWEEN SENECA ST AND UNIVERSITY ST', ...,\n",
       "       '47TH AVE SW AND SW 98TH ST', 'NE PARK RD AND NE RAVENNA WB BV',\n",
       "       'PUGET BLVD SW BETWEEN SW HUDSON ST AND DEAD END 1'], dtype=object)"
      ]
     },
     "execution_count": 46,
     "metadata": {},
     "output_type": "execute_result"
    }
   ],
   "source": [
    "featured_data.LOCATION.unique()"
   ]
  },
  {
   "cell_type": "code",
   "execution_count": 47,
   "metadata": {},
   "outputs": [],
   "source": [
    "featured_data.SPEEDING.replace(np.nan, 'UNKNOWN', inplace = True)"
   ]
  },
  {
   "cell_type": "code",
   "execution_count": 48,
   "metadata": {},
   "outputs": [
    {
     "data": {
      "text/plain": [
       "ADDRTYPE          0\n",
       "LOCATION          0\n",
       "COLLISIONTYPE     0\n",
       "PERSONCOUNT       0\n",
       "VEHCOUNT          0\n",
       "JUNCTIONTYPE      0\n",
       "INATTENTIONIND    0\n",
       "UNDERINFL         0\n",
       "WEATHER           0\n",
       "ROADCOND          0\n",
       "LIGHTCOND         0\n",
       "SPEEDING          0\n",
       "HITPARKEDCAR      0\n",
       "SEVERITYCODE      0\n",
       "dtype: int64"
      ]
     },
     "execution_count": 48,
     "metadata": {},
     "output_type": "execute_result"
    }
   ],
   "source": [
    "featured_data.isnull().sum()"
   ]
  },
  {
   "cell_type": "markdown",
   "metadata": {},
   "source": [
    "#### Checking the data after so many changes"
   ]
  },
  {
   "cell_type": "code",
   "execution_count": 49,
   "metadata": {},
   "outputs": [
    {
     "data": {
      "text/html": [
       "<div>\n",
       "<style scoped>\n",
       "    .dataframe tbody tr th:only-of-type {\n",
       "        vertical-align: middle;\n",
       "    }\n",
       "\n",
       "    .dataframe tbody tr th {\n",
       "        vertical-align: top;\n",
       "    }\n",
       "\n",
       "    .dataframe thead th {\n",
       "        text-align: right;\n",
       "    }\n",
       "</style>\n",
       "<table border=\"1\" class=\"dataframe\">\n",
       "  <thead>\n",
       "    <tr style=\"text-align: right;\">\n",
       "      <th></th>\n",
       "      <th>ADDRTYPE</th>\n",
       "      <th>LOCATION</th>\n",
       "      <th>COLLISIONTYPE</th>\n",
       "      <th>PERSONCOUNT</th>\n",
       "      <th>VEHCOUNT</th>\n",
       "      <th>JUNCTIONTYPE</th>\n",
       "      <th>INATTENTIONIND</th>\n",
       "      <th>UNDERINFL</th>\n",
       "      <th>WEATHER</th>\n",
       "      <th>ROADCOND</th>\n",
       "      <th>LIGHTCOND</th>\n",
       "      <th>SPEEDING</th>\n",
       "      <th>HITPARKEDCAR</th>\n",
       "      <th>SEVERITYCODE</th>\n",
       "    </tr>\n",
       "  </thead>\n",
       "  <tbody>\n",
       "    <tr>\n",
       "      <th>0</th>\n",
       "      <td>Intersection</td>\n",
       "      <td>5TH AVE NE AND NE 103RD ST</td>\n",
       "      <td>Angles</td>\n",
       "      <td>2</td>\n",
       "      <td>2</td>\n",
       "      <td>At Intersection (intersection related)</td>\n",
       "      <td>UNKNOWN</td>\n",
       "      <td>N</td>\n",
       "      <td>Overcast</td>\n",
       "      <td>Wet</td>\n",
       "      <td>Daylight</td>\n",
       "      <td>UNKNOWN</td>\n",
       "      <td>N</td>\n",
       "      <td>2</td>\n",
       "    </tr>\n",
       "    <tr>\n",
       "      <th>1</th>\n",
       "      <td>Block</td>\n",
       "      <td>AURORA BR BETWEEN RAYE ST AND BRIDGE WAY N</td>\n",
       "      <td>Sideswipe</td>\n",
       "      <td>2</td>\n",
       "      <td>2</td>\n",
       "      <td>Mid-Block (not related to intersection)</td>\n",
       "      <td>UNKNOWN</td>\n",
       "      <td>N</td>\n",
       "      <td>Raining</td>\n",
       "      <td>Wet</td>\n",
       "      <td>Dark - Street Lights On</td>\n",
       "      <td>UNKNOWN</td>\n",
       "      <td>N</td>\n",
       "      <td>1</td>\n",
       "    </tr>\n",
       "    <tr>\n",
       "      <th>2</th>\n",
       "      <td>Block</td>\n",
       "      <td>4TH AVE BETWEEN SENECA ST AND UNIVERSITY ST</td>\n",
       "      <td>Parked Car</td>\n",
       "      <td>4</td>\n",
       "      <td>3</td>\n",
       "      <td>Mid-Block (not related to intersection)</td>\n",
       "      <td>UNKNOWN</td>\n",
       "      <td>N</td>\n",
       "      <td>Overcast</td>\n",
       "      <td>Dry</td>\n",
       "      <td>Daylight</td>\n",
       "      <td>UNKNOWN</td>\n",
       "      <td>N</td>\n",
       "      <td>1</td>\n",
       "    </tr>\n",
       "    <tr>\n",
       "      <th>3</th>\n",
       "      <td>Block</td>\n",
       "      <td>2ND AVE BETWEEN MARION ST AND MADISON ST</td>\n",
       "      <td>Other</td>\n",
       "      <td>3</td>\n",
       "      <td>3</td>\n",
       "      <td>Mid-Block (not related to intersection)</td>\n",
       "      <td>UNKNOWN</td>\n",
       "      <td>N</td>\n",
       "      <td>Clear</td>\n",
       "      <td>Dry</td>\n",
       "      <td>Daylight</td>\n",
       "      <td>UNKNOWN</td>\n",
       "      <td>N</td>\n",
       "      <td>1</td>\n",
       "    </tr>\n",
       "    <tr>\n",
       "      <th>4</th>\n",
       "      <td>Intersection</td>\n",
       "      <td>SWIFT AVE S AND SWIFT AV OFF RP</td>\n",
       "      <td>Angles</td>\n",
       "      <td>2</td>\n",
       "      <td>2</td>\n",
       "      <td>At Intersection (intersection related)</td>\n",
       "      <td>UNKNOWN</td>\n",
       "      <td>N</td>\n",
       "      <td>Raining</td>\n",
       "      <td>Wet</td>\n",
       "      <td>Daylight</td>\n",
       "      <td>UNKNOWN</td>\n",
       "      <td>N</td>\n",
       "      <td>2</td>\n",
       "    </tr>\n",
       "  </tbody>\n",
       "</table>\n",
       "</div>"
      ],
      "text/plain": [
       "       ADDRTYPE                                     LOCATION COLLISIONTYPE  \\\n",
       "0  Intersection                   5TH AVE NE AND NE 103RD ST        Angles   \n",
       "1         Block   AURORA BR BETWEEN RAYE ST AND BRIDGE WAY N     Sideswipe   \n",
       "2         Block  4TH AVE BETWEEN SENECA ST AND UNIVERSITY ST    Parked Car   \n",
       "3         Block     2ND AVE BETWEEN MARION ST AND MADISON ST         Other   \n",
       "4  Intersection              SWIFT AVE S AND SWIFT AV OFF RP        Angles   \n",
       "\n",
       "   PERSONCOUNT  VEHCOUNT                             JUNCTIONTYPE  \\\n",
       "0            2         2   At Intersection (intersection related)   \n",
       "1            2         2  Mid-Block (not related to intersection)   \n",
       "2            4         3  Mid-Block (not related to intersection)   \n",
       "3            3         3  Mid-Block (not related to intersection)   \n",
       "4            2         2   At Intersection (intersection related)   \n",
       "\n",
       "  INATTENTIONIND UNDERINFL   WEATHER ROADCOND                LIGHTCOND  \\\n",
       "0        UNKNOWN         N  Overcast      Wet                 Daylight   \n",
       "1        UNKNOWN         N   Raining      Wet  Dark - Street Lights On   \n",
       "2        UNKNOWN         N  Overcast      Dry                 Daylight   \n",
       "3        UNKNOWN         N     Clear      Dry                 Daylight   \n",
       "4        UNKNOWN         N   Raining      Wet                 Daylight   \n",
       "\n",
       "  SPEEDING HITPARKEDCAR  SEVERITYCODE  \n",
       "0  UNKNOWN            N             2  \n",
       "1  UNKNOWN            N             1  \n",
       "2  UNKNOWN            N             1  \n",
       "3  UNKNOWN            N             1  \n",
       "4  UNKNOWN            N             2  "
      ]
     },
     "execution_count": 49,
     "metadata": {},
     "output_type": "execute_result"
    }
   ],
   "source": [
    "featured_data.head()"
   ]
  },
  {
   "cell_type": "markdown",
   "metadata": {},
   "source": [
    "#### Creating the copy of data"
   ]
  },
  {
   "cell_type": "code",
   "execution_count": 50,
   "metadata": {},
   "outputs": [],
   "source": [
    "updated_data = featured_data.copy()"
   ]
  },
  {
   "cell_type": "markdown",
   "metadata": {},
   "source": [
    "#### Describe the data"
   ]
  },
  {
   "cell_type": "code",
   "execution_count": 51,
   "metadata": {},
   "outputs": [
    {
     "data": {
      "text/html": [
       "<div>\n",
       "<style scoped>\n",
       "    .dataframe tbody tr th:only-of-type {\n",
       "        vertical-align: middle;\n",
       "    }\n",
       "\n",
       "    .dataframe tbody tr th {\n",
       "        vertical-align: top;\n",
       "    }\n",
       "\n",
       "    .dataframe thead th {\n",
       "        text-align: right;\n",
       "    }\n",
       "</style>\n",
       "<table border=\"1\" class=\"dataframe\">\n",
       "  <thead>\n",
       "    <tr style=\"text-align: right;\">\n",
       "      <th></th>\n",
       "      <th>ADDRTYPE</th>\n",
       "      <th>LOCATION</th>\n",
       "      <th>COLLISIONTYPE</th>\n",
       "      <th>PERSONCOUNT</th>\n",
       "      <th>VEHCOUNT</th>\n",
       "      <th>JUNCTIONTYPE</th>\n",
       "      <th>INATTENTIONIND</th>\n",
       "      <th>UNDERINFL</th>\n",
       "      <th>WEATHER</th>\n",
       "      <th>ROADCOND</th>\n",
       "      <th>LIGHTCOND</th>\n",
       "      <th>SPEEDING</th>\n",
       "      <th>HITPARKEDCAR</th>\n",
       "      <th>SEVERITYCODE</th>\n",
       "    </tr>\n",
       "  </thead>\n",
       "  <tbody>\n",
       "    <tr>\n",
       "      <th>count</th>\n",
       "      <td>182660</td>\n",
       "      <td>182660</td>\n",
       "      <td>182660</td>\n",
       "      <td>182660.000000</td>\n",
       "      <td>182660.000000</td>\n",
       "      <td>182660</td>\n",
       "      <td>182660</td>\n",
       "      <td>182660</td>\n",
       "      <td>182660</td>\n",
       "      <td>182660</td>\n",
       "      <td>182660</td>\n",
       "      <td>182660</td>\n",
       "      <td>182660</td>\n",
       "      <td>182660.000000</td>\n",
       "    </tr>\n",
       "    <tr>\n",
       "      <th>unique</th>\n",
       "      <td>2</td>\n",
       "      <td>23669</td>\n",
       "      <td>10</td>\n",
       "      <td>NaN</td>\n",
       "      <td>NaN</td>\n",
       "      <td>7</td>\n",
       "      <td>2</td>\n",
       "      <td>2</td>\n",
       "      <td>11</td>\n",
       "      <td>9</td>\n",
       "      <td>9</td>\n",
       "      <td>2</td>\n",
       "      <td>2</td>\n",
       "      <td>NaN</td>\n",
       "    </tr>\n",
       "    <tr>\n",
       "      <th>top</th>\n",
       "      <td>Block</td>\n",
       "      <td>BATTERY ST TUNNEL NB BETWEEN ALASKAN WY VI NB ...</td>\n",
       "      <td>Parked Car</td>\n",
       "      <td>NaN</td>\n",
       "      <td>NaN</td>\n",
       "      <td>Mid-Block (not related to intersection)</td>\n",
       "      <td>UNKNOWN</td>\n",
       "      <td>N</td>\n",
       "      <td>Clear</td>\n",
       "      <td>Dry</td>\n",
       "      <td>Daylight</td>\n",
       "      <td>UNKNOWN</td>\n",
       "      <td>N</td>\n",
       "      <td>NaN</td>\n",
       "    </tr>\n",
       "    <tr>\n",
       "      <th>freq</th>\n",
       "      <td>119362</td>\n",
       "      <td>272</td>\n",
       "      <td>43019</td>\n",
       "      <td>NaN</td>\n",
       "      <td>NaN</td>\n",
       "      <td>86434</td>\n",
       "      <td>153473</td>\n",
       "      <td>173674</td>\n",
       "      <td>108923</td>\n",
       "      <td>122002</td>\n",
       "      <td>113710</td>\n",
       "      <td>173484</td>\n",
       "      <td>176971</td>\n",
       "      <td>NaN</td>\n",
       "    </tr>\n",
       "    <tr>\n",
       "      <th>mean</th>\n",
       "      <td>NaN</td>\n",
       "      <td>NaN</td>\n",
       "      <td>NaN</td>\n",
       "      <td>2.476902</td>\n",
       "      <td>1.972358</td>\n",
       "      <td>NaN</td>\n",
       "      <td>NaN</td>\n",
       "      <td>NaN</td>\n",
       "      <td>NaN</td>\n",
       "      <td>NaN</td>\n",
       "      <td>NaN</td>\n",
       "      <td>NaN</td>\n",
       "      <td>NaN</td>\n",
       "      <td>1.309843</td>\n",
       "    </tr>\n",
       "    <tr>\n",
       "      <th>std</th>\n",
       "      <td>NaN</td>\n",
       "      <td>NaN</td>\n",
       "      <td>NaN</td>\n",
       "      <td>1.371036</td>\n",
       "      <td>0.563108</td>\n",
       "      <td>NaN</td>\n",
       "      <td>NaN</td>\n",
       "      <td>NaN</td>\n",
       "      <td>NaN</td>\n",
       "      <td>NaN</td>\n",
       "      <td>NaN</td>\n",
       "      <td>NaN</td>\n",
       "      <td>NaN</td>\n",
       "      <td>0.462430</td>\n",
       "    </tr>\n",
       "    <tr>\n",
       "      <th>min</th>\n",
       "      <td>NaN</td>\n",
       "      <td>NaN</td>\n",
       "      <td>NaN</td>\n",
       "      <td>0.000000</td>\n",
       "      <td>0.000000</td>\n",
       "      <td>NaN</td>\n",
       "      <td>NaN</td>\n",
       "      <td>NaN</td>\n",
       "      <td>NaN</td>\n",
       "      <td>NaN</td>\n",
       "      <td>NaN</td>\n",
       "      <td>NaN</td>\n",
       "      <td>NaN</td>\n",
       "      <td>1.000000</td>\n",
       "    </tr>\n",
       "    <tr>\n",
       "      <th>25%</th>\n",
       "      <td>NaN</td>\n",
       "      <td>NaN</td>\n",
       "      <td>NaN</td>\n",
       "      <td>2.000000</td>\n",
       "      <td>2.000000</td>\n",
       "      <td>NaN</td>\n",
       "      <td>NaN</td>\n",
       "      <td>NaN</td>\n",
       "      <td>NaN</td>\n",
       "      <td>NaN</td>\n",
       "      <td>NaN</td>\n",
       "      <td>NaN</td>\n",
       "      <td>NaN</td>\n",
       "      <td>1.000000</td>\n",
       "    </tr>\n",
       "    <tr>\n",
       "      <th>50%</th>\n",
       "      <td>NaN</td>\n",
       "      <td>NaN</td>\n",
       "      <td>NaN</td>\n",
       "      <td>2.000000</td>\n",
       "      <td>2.000000</td>\n",
       "      <td>NaN</td>\n",
       "      <td>NaN</td>\n",
       "      <td>NaN</td>\n",
       "      <td>NaN</td>\n",
       "      <td>NaN</td>\n",
       "      <td>NaN</td>\n",
       "      <td>NaN</td>\n",
       "      <td>NaN</td>\n",
       "      <td>1.000000</td>\n",
       "    </tr>\n",
       "    <tr>\n",
       "      <th>75%</th>\n",
       "      <td>NaN</td>\n",
       "      <td>NaN</td>\n",
       "      <td>NaN</td>\n",
       "      <td>3.000000</td>\n",
       "      <td>2.000000</td>\n",
       "      <td>NaN</td>\n",
       "      <td>NaN</td>\n",
       "      <td>NaN</td>\n",
       "      <td>NaN</td>\n",
       "      <td>NaN</td>\n",
       "      <td>NaN</td>\n",
       "      <td>NaN</td>\n",
       "      <td>NaN</td>\n",
       "      <td>2.000000</td>\n",
       "    </tr>\n",
       "    <tr>\n",
       "      <th>max</th>\n",
       "      <td>NaN</td>\n",
       "      <td>NaN</td>\n",
       "      <td>NaN</td>\n",
       "      <td>81.000000</td>\n",
       "      <td>12.000000</td>\n",
       "      <td>NaN</td>\n",
       "      <td>NaN</td>\n",
       "      <td>NaN</td>\n",
       "      <td>NaN</td>\n",
       "      <td>NaN</td>\n",
       "      <td>NaN</td>\n",
       "      <td>NaN</td>\n",
       "      <td>NaN</td>\n",
       "      <td>2.000000</td>\n",
       "    </tr>\n",
       "  </tbody>\n",
       "</table>\n",
       "</div>"
      ],
      "text/plain": [
       "       ADDRTYPE                                           LOCATION  \\\n",
       "count    182660                                             182660   \n",
       "unique        2                                              23669   \n",
       "top       Block  BATTERY ST TUNNEL NB BETWEEN ALASKAN WY VI NB ...   \n",
       "freq     119362                                                272   \n",
       "mean        NaN                                                NaN   \n",
       "std         NaN                                                NaN   \n",
       "min         NaN                                                NaN   \n",
       "25%         NaN                                                NaN   \n",
       "50%         NaN                                                NaN   \n",
       "75%         NaN                                                NaN   \n",
       "max         NaN                                                NaN   \n",
       "\n",
       "       COLLISIONTYPE    PERSONCOUNT       VEHCOUNT  \\\n",
       "count         182660  182660.000000  182660.000000   \n",
       "unique            10            NaN            NaN   \n",
       "top       Parked Car            NaN            NaN   \n",
       "freq           43019            NaN            NaN   \n",
       "mean             NaN       2.476902       1.972358   \n",
       "std              NaN       1.371036       0.563108   \n",
       "min              NaN       0.000000       0.000000   \n",
       "25%              NaN       2.000000       2.000000   \n",
       "50%              NaN       2.000000       2.000000   \n",
       "75%              NaN       3.000000       2.000000   \n",
       "max              NaN      81.000000      12.000000   \n",
       "\n",
       "                                   JUNCTIONTYPE INATTENTIONIND UNDERINFL  \\\n",
       "count                                    182660         182660    182660   \n",
       "unique                                        7              2         2   \n",
       "top     Mid-Block (not related to intersection)        UNKNOWN         N   \n",
       "freq                                      86434         153473    173674   \n",
       "mean                                        NaN            NaN       NaN   \n",
       "std                                         NaN            NaN       NaN   \n",
       "min                                         NaN            NaN       NaN   \n",
       "25%                                         NaN            NaN       NaN   \n",
       "50%                                         NaN            NaN       NaN   \n",
       "75%                                         NaN            NaN       NaN   \n",
       "max                                         NaN            NaN       NaN   \n",
       "\n",
       "       WEATHER ROADCOND LIGHTCOND SPEEDING HITPARKEDCAR   SEVERITYCODE  \n",
       "count   182660   182660    182660   182660       182660  182660.000000  \n",
       "unique      11        9         9        2            2            NaN  \n",
       "top      Clear      Dry  Daylight  UNKNOWN            N            NaN  \n",
       "freq    108923   122002    113710   173484       176971            NaN  \n",
       "mean       NaN      NaN       NaN      NaN          NaN       1.309843  \n",
       "std        NaN      NaN       NaN      NaN          NaN       0.462430  \n",
       "min        NaN      NaN       NaN      NaN          NaN       1.000000  \n",
       "25%        NaN      NaN       NaN      NaN          NaN       1.000000  \n",
       "50%        NaN      NaN       NaN      NaN          NaN       1.000000  \n",
       "75%        NaN      NaN       NaN      NaN          NaN       2.000000  \n",
       "max        NaN      NaN       NaN      NaN          NaN       2.000000  "
      ]
     },
     "execution_count": 51,
     "metadata": {},
     "output_type": "execute_result"
    }
   ],
   "source": [
    "updated_data.describe(include = 'all')"
   ]
  },
  {
   "cell_type": "code",
   "execution_count": 52,
   "metadata": {},
   "outputs": [
    {
     "data": {
      "text/plain": [
       "ADDRTYPE          0\n",
       "LOCATION          0\n",
       "COLLISIONTYPE     0\n",
       "PERSONCOUNT       0\n",
       "VEHCOUNT          0\n",
       "JUNCTIONTYPE      0\n",
       "INATTENTIONIND    0\n",
       "UNDERINFL         0\n",
       "WEATHER           0\n",
       "ROADCOND          0\n",
       "LIGHTCOND         0\n",
       "SPEEDING          0\n",
       "HITPARKEDCAR      0\n",
       "SEVERITYCODE      0\n",
       "dtype: int64"
      ]
     },
     "execution_count": 52,
     "metadata": {},
     "output_type": "execute_result"
    }
   ],
   "source": [
    "updated_data.isnull().sum()"
   ]
  },
  {
   "cell_type": "markdown",
   "metadata": {},
   "source": [
    "### FEATURE GENERATION"
   ]
  },
  {
   "cell_type": "code",
   "execution_count": 53,
   "metadata": {},
   "outputs": [],
   "source": [
    "updated_data.reset_index(inplace = True)"
   ]
  },
  {
   "cell_type": "code",
   "execution_count": 54,
   "metadata": {},
   "outputs": [],
   "source": [
    "updated_data.drop('index', axis = 1, inplace = True)"
   ]
  },
  {
   "cell_type": "code",
   "execution_count": 55,
   "metadata": {},
   "outputs": [],
   "source": [
    "addr_colltype = updated_data.ADDRTYPE.astype('str') +'_'+ updated_data.COLLISIONTYPE.astype('str')\n",
    "colltype_junction = updated_data.COLLISIONTYPE.astype('str') +'_'+ updated_data.JUNCTIONTYPE.astype('str')\n",
    "underinfl_inatt = updated_data.UNDERINFL.astype('str') +'_'+ updated_data.INATTENTIONIND.astype('str')\n",
    "weather_roadcond = updated_data.WEATHER.astype('str') +'_'+ updated_data.ROADCOND.astype('str')\n",
    "underinfl_hitparked = updated_data.UNDERINFL.astype('str') +'_'+ updated_data.HITPARKEDCAR.astype('str')\n",
    "underinfl_speed = updated_data.UNDERINFL.astype('str') +'_'+ updated_data.SPEEDING.astype('str')\n",
    "light_road_cond = updated_data.LIGHTCOND.astype('str') +'_'+ updated_data.ROADCOND.astype('str')\n",
    "inatt_hitparked = updated_data.INATTENTIONIND.astype('str') +'_'+ updated_data.HITPARKEDCAR.astype('str')\n",
    "addr_junction_coll = updated_data.ADDRTYPE.astype('str') +'_'+ updated_data.JUNCTIONTYPE.astype('str') + '_' + updated_data.COLLISIONTYPE.astype('str')\n"
   ]
  },
  {
   "cell_type": "code",
   "execution_count": 56,
   "metadata": {},
   "outputs": [
    {
     "data": {
      "text/plain": [
       "Index(['ADDRTYPE', 'LOCATION', 'COLLISIONTYPE', 'PERSONCOUNT', 'VEHCOUNT',\n",
       "       'JUNCTIONTYPE', 'INATTENTIONIND', 'UNDERINFL', 'WEATHER', 'ROADCOND',\n",
       "       'LIGHTCOND', 'SPEEDING', 'HITPARKEDCAR', 'SEVERITYCODE'],\n",
       "      dtype='object')"
      ]
     },
     "execution_count": 56,
     "metadata": {},
     "output_type": "execute_result"
    }
   ],
   "source": [
    "updated_data.columns"
   ]
  },
  {
   "cell_type": "markdown",
   "metadata": {},
   "source": [
    "#### Adding the features to the dataframe"
   ]
  },
  {
   "cell_type": "code",
   "execution_count": 57,
   "metadata": {},
   "outputs": [],
   "source": [
    "updated_data['ADDRTYPE_COLLISION'] = addr_colltype\n",
    "updated_data['COLLISIONTYPE_JUNCTION'] = colltype_junction\n",
    "updated_data['UNDERINFL_INATTENTION'] = underinfl_inatt\n",
    "updated_data['WEATHER_ROADCOND'] = weather_roadcond\n",
    "updated_data['UNDERINFL_HITPARKED'] = underinfl_hitparked\n",
    "updated_data['UNDERINFL_SPEED'] = underinfl_speed\n",
    "updated_data['LIGHT_ROAD_COND'] = light_road_cond\n",
    "updated_data['INATTENTION_HITPARKED'] = inatt_hitparked\n",
    "updated_data['ADDRTPE_JUNCTION_COLLISION'] = addr_junction_coll"
   ]
  },
  {
   "cell_type": "markdown",
   "metadata": {},
   "source": [
    "#### First converting them into category to pass them to LabelEncoder"
   ]
  },
  {
   "cell_type": "markdown",
   "metadata": {},
   "source": [
    "#### Changing datatype of features with type object to category"
   ]
  },
  {
   "cell_type": "code",
   "execution_count": 58,
   "metadata": {},
   "outputs": [
    {
     "data": {
      "text/plain": [
       "ADDRTYPE                      object\n",
       "LOCATION                      object\n",
       "COLLISIONTYPE                 object\n",
       "JUNCTIONTYPE                  object\n",
       "INATTENTIONIND                object\n",
       "UNDERINFL                     object\n",
       "WEATHER                       object\n",
       "ROADCOND                      object\n",
       "LIGHTCOND                     object\n",
       "SPEEDING                      object\n",
       "HITPARKEDCAR                  object\n",
       "ADDRTYPE_COLLISION            object\n",
       "COLLISIONTYPE_JUNCTION        object\n",
       "UNDERINFL_INATTENTION         object\n",
       "WEATHER_ROADCOND              object\n",
       "UNDERINFL_HITPARKED           object\n",
       "UNDERINFL_SPEED               object\n",
       "LIGHT_ROAD_COND               object\n",
       "INATTENTION_HITPARKED         object\n",
       "ADDRTPE_JUNCTION_COLLISION    object\n",
       "dtype: object"
      ]
     },
     "execution_count": 58,
     "metadata": {},
     "output_type": "execute_result"
    }
   ],
   "source": [
    "updated_data.dtypes[updated_data.dtypes == 'object']"
   ]
  },
  {
   "cell_type": "code",
   "execution_count": 59,
   "metadata": {},
   "outputs": [],
   "source": [
    "updated_data.ADDRTYPE = updated_data.ADDRTYPE.astype('category')\n",
    "updated_data.LOCATION = updated_data.LOCATION.astype('category')\n",
    "updated_data.COLLISIONTYPE = updated_data.COLLISIONTYPE.astype('category')\n",
    "updated_data.JUNCTIONTYPE = updated_data.JUNCTIONTYPE.astype('category')\n",
    "updated_data.UNDERINFL = updated_data.UNDERINFL.astype('category')\n",
    "updated_data.WEATHER = updated_data.WEATHER.astype('category')\n",
    "updated_data.ROADCOND = updated_data.ROADCOND.astype('category')\n",
    "updated_data.LIGHTCOND = updated_data.LIGHTCOND.astype('category')\n",
    "updated_data.SPEEDING = updated_data.SPEEDING.astype('category')\n",
    "updated_data.HITPARKEDCAR = updated_data.HITPARKEDCAR.astype('category')\n",
    "updated_data.INATTENTIONIND = updated_data.INATTENTIONIND.astype('category')\n",
    "\n",
    "updated_data.ADDRTYPE_COLLISION = updated_data.ADDRTYPE_COLLISION.astype('category')\n",
    "updated_data.COLLISIONTYPE_JUNCTION = updated_data.COLLISIONTYPE_JUNCTION.astype('category')\n",
    "updated_data.UNDERINFL_INATTENTION = updated_data.UNDERINFL_INATTENTION.astype('category')\n",
    "updated_data.WEATHER_ROADCOND = updated_data.WEATHER_ROADCOND.astype('category')\n",
    "updated_data.UNDERINFL_HITPARKED = updated_data.UNDERINFL_HITPARKED.astype('category')\n",
    "updated_data.UNDERINFL_SPEED = updated_data.UNDERINFL_SPEED.astype('category')\n",
    "updated_data.LIGHT_ROAD_COND = updated_data.LIGHT_ROAD_COND.astype('category')\n",
    "updated_data.INATTENTION_HITPARKED = updated_data.INATTENTION_HITPARKED.astype('category')\n",
    "updated_data.ADDRTPE_JUNCTION_COLLISION = updated_data.ADDRTPE_JUNCTION_COLLISION.astype('category')"
   ]
  },
  {
   "cell_type": "markdown",
   "metadata": {},
   "source": [
    "## VISUZALIZING THE DATA"
   ]
  },
  {
   "cell_type": "markdown",
   "metadata": {},
   "source": [
    "### DESCRIPTIVE STATISTICS"
   ]
  },
  {
   "cell_type": "code",
   "execution_count": 60,
   "metadata": {},
   "outputs": [
    {
     "data": {
      "text/html": [
       "<div>\n",
       "<style scoped>\n",
       "    .dataframe tbody tr th:only-of-type {\n",
       "        vertical-align: middle;\n",
       "    }\n",
       "\n",
       "    .dataframe tbody tr th {\n",
       "        vertical-align: top;\n",
       "    }\n",
       "\n",
       "    .dataframe thead th {\n",
       "        text-align: right;\n",
       "    }\n",
       "</style>\n",
       "<table border=\"1\" class=\"dataframe\">\n",
       "  <thead>\n",
       "    <tr style=\"text-align: right;\">\n",
       "      <th></th>\n",
       "      <th>PERSONCOUNT</th>\n",
       "      <th>VEHCOUNT</th>\n",
       "      <th>SEVERITYCODE</th>\n",
       "    </tr>\n",
       "  </thead>\n",
       "  <tbody>\n",
       "    <tr>\n",
       "      <th>count</th>\n",
       "      <td>182660.000000</td>\n",
       "      <td>182660.000000</td>\n",
       "      <td>182660.000000</td>\n",
       "    </tr>\n",
       "    <tr>\n",
       "      <th>mean</th>\n",
       "      <td>2.476902</td>\n",
       "      <td>1.972358</td>\n",
       "      <td>1.309843</td>\n",
       "    </tr>\n",
       "    <tr>\n",
       "      <th>std</th>\n",
       "      <td>1.371036</td>\n",
       "      <td>0.563108</td>\n",
       "      <td>0.462430</td>\n",
       "    </tr>\n",
       "    <tr>\n",
       "      <th>min</th>\n",
       "      <td>0.000000</td>\n",
       "      <td>0.000000</td>\n",
       "      <td>1.000000</td>\n",
       "    </tr>\n",
       "    <tr>\n",
       "      <th>25%</th>\n",
       "      <td>2.000000</td>\n",
       "      <td>2.000000</td>\n",
       "      <td>1.000000</td>\n",
       "    </tr>\n",
       "    <tr>\n",
       "      <th>50%</th>\n",
       "      <td>2.000000</td>\n",
       "      <td>2.000000</td>\n",
       "      <td>1.000000</td>\n",
       "    </tr>\n",
       "    <tr>\n",
       "      <th>75%</th>\n",
       "      <td>3.000000</td>\n",
       "      <td>2.000000</td>\n",
       "      <td>2.000000</td>\n",
       "    </tr>\n",
       "    <tr>\n",
       "      <th>max</th>\n",
       "      <td>81.000000</td>\n",
       "      <td>12.000000</td>\n",
       "      <td>2.000000</td>\n",
       "    </tr>\n",
       "  </tbody>\n",
       "</table>\n",
       "</div>"
      ],
      "text/plain": [
       "         PERSONCOUNT       VEHCOUNT   SEVERITYCODE\n",
       "count  182660.000000  182660.000000  182660.000000\n",
       "mean        2.476902       1.972358       1.309843\n",
       "std         1.371036       0.563108       0.462430\n",
       "min         0.000000       0.000000       1.000000\n",
       "25%         2.000000       2.000000       1.000000\n",
       "50%         2.000000       2.000000       1.000000\n",
       "75%         3.000000       2.000000       2.000000\n",
       "max        81.000000      12.000000       2.000000"
      ]
     },
     "execution_count": 60,
     "metadata": {},
     "output_type": "execute_result"
    }
   ],
   "source": [
    "updated_data.describe()"
   ]
  },
  {
   "cell_type": "markdown",
   "metadata": {},
   "source": [
    "#### Check for z-score (outlier in PERSONCOUNT)"
   ]
  },
  {
   "cell_type": "code",
   "execution_count": 61,
   "metadata": {},
   "outputs": [
    {
     "name": "stdout",
     "output_type": "stream",
     "text": [
      "[0.3478418  0.3478418  1.11091273 ... 0.38153546 0.3478418  0.3478418 ]\n"
     ]
    }
   ],
   "source": [
    "from scipy import stats\n",
    "z=np.abs(stats.zscore(updated_data.PERSONCOUNT))\n",
    "print(z)"
   ]
  },
  {
   "cell_type": "code",
   "execution_count": 62,
   "metadata": {},
   "outputs": [
    {
     "name": "stdout",
     "output_type": "stream",
     "text": [
      "(array([    86,     90,    227, ..., 182286, 182618, 182651], dtype=int64),)\n"
     ]
    }
   ],
   "source": [
    "threshold=3\n",
    "print(np.where(z>3))"
   ]
  },
  {
   "cell_type": "code",
   "execution_count": 63,
   "metadata": {},
   "outputs": [],
   "source": [
    "updated_data = updated_data[(z< 3)]"
   ]
  },
  {
   "cell_type": "code",
   "execution_count": 71,
   "metadata": {},
   "outputs": [
    {
     "data": {
      "text/plain": [
       "Text(0, 0.5, 'Counts of collision occured')"
      ]
     },
     "execution_count": 71,
     "metadata": {},
     "output_type": "execute_result"
    },
    {
     "data": {
      "image/png": "[encoded data removed]",
      "text/plain": [
       "<Figure size 432x288 with 1 Axes>"
      ]
     },
     "metadata": {},
     "output_type": "display_data"
    }
   ],
   "source": [
    "sns.countplot(x=\"ADDRTYPE\", hue=\"SEVERITYCODE\", data=updated_data)\n",
    "plt.title('Address type where collision occured and Severity count')\n",
    "plt.xlabel('Address Type')\n",
    "plt.ylabel('Counts of collision occured')"
   ]
  },
  {
   "cell_type": "code",
   "execution_count": 72,
   "metadata": {
    "scrolled": true
   },
   "outputs": [
    {
     "data": {
      "text/plain": [
       "Text(0, 0.5, 'Counts of collision occured of different types')"
      ]
     },
     "execution_count": 72,
     "metadata": {},
     "output_type": "execute_result"
    },
    {
     "data": {
      "image/png": "[encoded data removed]",
      "text/plain": [
       "<Figure size 432x288 with 1 Axes>"
      ]
     },
     "metadata": {},
     "output_type": "display_data"
    }
   ],
   "source": [
    "sns.countplot(x=\"COLLISIONTYPE\", hue=\"SEVERITYCODE\", data=updated_data)\n",
    "\n",
    "plt.title('Type of collision that had occured and Severity count')\n",
    "plt.xlabel('Collision Type')\n",
    "plt.xticks(rotation = 90)\n",
    "plt.ylabel('Counts of collision occured of different types')"
   ]
  },
  {
   "cell_type": "code",
   "execution_count": 73,
   "metadata": {
    "scrolled": true
   },
   "outputs": [
    {
     "data": {
      "text/plain": [
       "Text(0, 0.5, 'Counts of collision occured of different types')"
      ]
     },
     "execution_count": 73,
     "metadata": {},
     "output_type": "execute_result"
    },
    {
     "data": {
      "image/png": "[encoded data removed]",
      "text/plain": [
       "<Figure size 432x288 with 1 Axes>"
      ]
     },
     "metadata": {},
     "output_type": "display_data"
    }
   ],
   "source": [
    "sns.countplot(x=\"JUNCTIONTYPE\", hue=\"SEVERITYCODE\", data=updated_data)\n",
    "plt.title('Junction type where collision occured and Severity was Prop Damage (SEVERITYCODE = 1)')\n",
    "plt.xticks(rotation = 90)\n",
    "plt.xlabel('Junction Type')\n",
    "plt.ylabel('Counts of collision occured of different types')"
   ]
  },
  {
   "cell_type": "code",
   "execution_count": 74,
   "metadata": {},
   "outputs": [
    {
     "data": {
      "text/plain": [
       "Text(0, 0.5, 'Counts of collision occured of different types')"
      ]
     },
     "execution_count": 74,
     "metadata": {},
     "output_type": "execute_result"
    },
    {
     "data": {
      "image/png": "[encoded data removed]",
      "text/plain": [
       "<Figure size 432x288 with 1 Axes>"
      ]
     },
     "metadata": {},
     "output_type": "display_data"
    }
   ],
   "source": [
    "sns.countplot(x=\"INATTENTIONIND\", hue=\"SEVERITYCODE\", data=updated_data)\n",
    "\n",
    "plt.title('If the person was attentive when collision occured and Severity count')\n",
    "plt.xlabel('Attentive')\n",
    "plt.ylabel('Counts of collision occured of different types')"
   ]
  },
  {
   "cell_type": "code",
   "execution_count": 75,
   "metadata": {
    "scrolled": true
   },
   "outputs": [
    {
     "data": {
      "text/plain": [
       "Text(0, 0.5, 'Counts of collision occured of different types')"
      ]
     },
     "execution_count": 75,
     "metadata": {},
     "output_type": "execute_result"
    },
    {
     "data": {
      "image/png": "[encoded data removed]",
      "text/plain": [
       "<Figure size 432x288 with 1 Axes>"
      ]
     },
     "metadata": {},
     "output_type": "display_data"
    }
   ],
   "source": [
    "sns.countplot(x=\"SPEEDING\", hue=\"SEVERITYCODE\", data=updated_data)\n",
    "\n",
    "plt.title('Speed was high or not when collision occured and Severity count')\n",
    "plt.xlabel('High Speed')\n",
    "plt.ylabel('Counts of collision occured of different types')"
   ]
  },
  {
   "cell_type": "code",
   "execution_count": 76,
   "metadata": {},
   "outputs": [
    {
     "data": {
      "text/plain": [
       "Text(0, 0.5, 'Counts of collision occured of different types')"
      ]
     },
     "execution_count": 76,
     "metadata": {},
     "output_type": "execute_result"
    },
    {
     "data": {
      "image/png": "[encoded data removed]",
      "text/plain": [
       "<Figure size 432x288 with 1 Axes>"
      ]
     },
     "metadata": {},
     "output_type": "display_data"
    }
   ],
   "source": [
    "sns.countplot(x=\"HITPARKEDCAR\", hue=\"SEVERITYCODE\", data=updated_data)\n",
    "plt.title('Parked car was hit in the case of collision occured and Severity count')\n",
    "plt.xlabel('Hit a parked car')\n",
    "plt.ylabel('Counts of collision occured of different types')"
   ]
  },
  {
   "cell_type": "markdown",
   "metadata": {},
   "source": [
    "### ENCODING CATEGORICAL DATA"
   ]
  },
  {
   "cell_type": "markdown",
   "metadata": {},
   "source": [
    "#### Data types of the features"
   ]
  },
  {
   "cell_type": "code",
   "execution_count": 89,
   "metadata": {
    "scrolled": false
   },
   "outputs": [
    {
     "data": {
      "text/plain": [
       "ADDRTYPE                      category\n",
       "LOCATION                      category\n",
       "COLLISIONTYPE                 category\n",
       "PERSONCOUNT                      int64\n",
       "VEHCOUNT                         int64\n",
       "JUNCTIONTYPE                  category\n",
       "INATTENTIONIND                category\n",
       "UNDERINFL                     category\n",
       "WEATHER                       category\n",
       "ROADCOND                      category\n",
       "LIGHTCOND                     category\n",
       "SPEEDING                      category\n",
       "HITPARKEDCAR                  category\n",
       "SEVERITYCODE                     int64\n",
       "ADDRTYPE_COLLISION            category\n",
       "COLLISIONTYPE_JUNCTION        category\n",
       "UNDERINFL_INATTENTION         category\n",
       "WEATHER_ROADCOND              category\n",
       "UNDERINFL_HITPARKED           category\n",
       "UNDERINFL_SPEED               category\n",
       "LIGHT_ROAD_COND               category\n",
       "INATTENTION_HITPARKED         category\n",
       "ADDRTPE_JUNCTION_COLLISION    category\n",
       "dtype: object"
      ]
     },
     "execution_count": 89,
     "metadata": {},
     "output_type": "execute_result"
    }
   ],
   "source": [
    "updated_data.dtypes"
   ]
  },
  {
   "cell_type": "markdown",
   "metadata": {},
   "source": [
    "#### Encode"
   ]
  },
  {
   "cell_type": "code",
   "execution_count": 90,
   "metadata": {},
   "outputs": [],
   "source": [
    "from sklearn.preprocessing import LabelEncoder\n",
    "le = LabelEncoder()\n",
    "updated_data.ADDRTYPE = le.fit_transform(updated_data.ADDRTYPE)\n",
    "updated_data.LOCATION = le.fit_transform(updated_data.LOCATION)\n",
    "updated_data.COLLISIONTYPE = le.fit_transform(updated_data.COLLISIONTYPE)\n",
    "updated_data.JUNCTIONTYPE = le.fit_transform(updated_data.JUNCTIONTYPE)\n",
    "updated_data.UNDERINFL = le.fit_transform(updated_data.UNDERINFL)\n",
    "updated_data.WEATHER = le.fit_transform(updated_data.WEATHER)\n",
    "updated_data.ROADCOND = le.fit_transform(updated_data.ROADCOND)\n",
    "updated_data.LIGHTCOND = le.fit_transform(updated_data.LIGHTCOND)\n",
    "updated_data.SPEEDING = le.fit_transform(updated_data.SPEEDING)\n",
    "updated_data.HITPARKEDCAR = le.fit_transform(updated_data.HITPARKEDCAR)\n",
    "updated_data.INATTENTIONIND = le.fit_transform(updated_data.INATTENTIONIND)\n",
    "\n",
    "updated_data.ADDRTYPE_COLLISION = le.fit_transform(updated_data.ADDRTYPE_COLLISION)\n",
    "updated_data.COLLISIONTYPE_JUNCTION = le.fit_transform(updated_data.COLLISIONTYPE_JUNCTION)\n",
    "updated_data.UNDERINFL_INATTENTION = le.fit_transform(updated_data.UNDERINFL_INATTENTION)\n",
    "updated_data.WEATHER_ROADCOND = le.fit_transform(updated_data.WEATHER_ROADCOND)\n",
    "updated_data.UNDERINFL_HITPARKED = le.fit_transform(updated_data.UNDERINFL_HITPARKED)\n",
    "updated_data.UNDERINFL_SPEED = le.fit_transform(updated_data.UNDERINFL_SPEED)\n",
    "updated_data.LIGHT_ROAD_COND = le.fit_transform(updated_data.LIGHT_ROAD_COND)\n",
    "updated_data.INATTENTION_HITPARKED = le.fit_transform(updated_data.INATTENTION_HITPARKED)\n",
    "updated_data.ADDRTPE_JUNCTION_COLLISION = le.fit_transform(updated_data.ADDRTPE_JUNCTION_COLLISION)"
   ]
  },
  {
   "cell_type": "markdown",
   "metadata": {},
   "source": [
    "### BALANCING THE DATASET"
   ]
  },
  {
   "cell_type": "markdown",
   "metadata": {},
   "source": [
    "#### Check again if the target data is balanced or not"
   ]
  },
  {
   "cell_type": "code",
   "execution_count": 91,
   "metadata": {},
   "outputs": [
    {
     "data": {
      "text/plain": [
       "1    125069\n",
       "2     55364\n",
       "Name: SEVERITYCODE, dtype: int64"
      ]
     },
     "execution_count": 91,
     "metadata": {},
     "output_type": "execute_result"
    }
   ],
   "source": [
    "updated_data.SEVERITYCODE.value_counts()"
   ]
  },
  {
   "cell_type": "code",
   "execution_count": 92,
   "metadata": {},
   "outputs": [],
   "source": [
    "X = updated_data.drop('SEVERITYCODE', axis = 1)\n",
    "y = updated_data.SEVERITYCODE"
   ]
  },
  {
   "cell_type": "code",
   "execution_count": 93,
   "metadata": {},
   "outputs": [],
   "source": [
    "import imblearn\n",
    "\n",
    "from imblearn.over_sampling import RandomOverSampler\n",
    "\n",
    "oversample = RandomOverSampler(sampling_strategy='minority')\n",
    "X_samp, y_samp = oversample.fit_sample(X, y)"
   ]
  },
  {
   "cell_type": "markdown",
   "metadata": {},
   "source": [
    "### MEMEORY USAGE BY DATA"
   ]
  },
  {
   "cell_type": "code",
   "execution_count": 94,
   "metadata": {},
   "outputs": [
    {
     "name": "stdout",
     "output_type": "stream",
     "text": [
      "<class 'pandas.core.frame.DataFrame'>\n",
      "Int64Index: 180433 entries, 0 to 182659\n",
      "Columns: 23 entries, ADDRTYPE to ADDRTPE_JUNCTION_COLLISION\n",
      "dtypes: int32(20), int64(3)\n",
      "memory usage: 24.3 MB\n"
     ]
    }
   ],
   "source": [
    "updated_data.info(verbose=False, memory_usage=\"deep\")"
   ]
  },
  {
   "cell_type": "code",
   "execution_count": 95,
   "metadata": {},
   "outputs": [
    {
     "data": {
      "text/plain": [
       "ADDRTYPE                      int32\n",
       "LOCATION                      int32\n",
       "COLLISIONTYPE                 int32\n",
       "PERSONCOUNT                   int64\n",
       "VEHCOUNT                      int64\n",
       "JUNCTIONTYPE                  int32\n",
       "INATTENTIONIND                int32\n",
       "UNDERINFL                     int32\n",
       "WEATHER                       int32\n",
       "ROADCOND                      int32\n",
       "LIGHTCOND                     int32\n",
       "SPEEDING                      int32\n",
       "HITPARKEDCAR                  int32\n",
       "SEVERITYCODE                  int64\n",
       "ADDRTYPE_COLLISION            int32\n",
       "COLLISIONTYPE_JUNCTION        int32\n",
       "UNDERINFL_INATTENTION         int32\n",
       "WEATHER_ROADCOND              int32\n",
       "UNDERINFL_HITPARKED           int32\n",
       "UNDERINFL_SPEED               int32\n",
       "LIGHT_ROAD_COND               int32\n",
       "INATTENTION_HITPARKED         int32\n",
       "ADDRTPE_JUNCTION_COLLISION    int32\n",
       "dtype: object"
      ]
     },
     "execution_count": 95,
     "metadata": {},
     "output_type": "execute_result"
    }
   ],
   "source": [
    "updated_data.dtypes"
   ]
  },
  {
   "cell_type": "markdown",
   "metadata": {},
   "source": [
    "#### Coverting all int64 to uint8"
   ]
  },
  {
   "cell_type": "code",
   "execution_count": 96,
   "metadata": {},
   "outputs": [],
   "source": [
    "updated_data.ADDRTYPE = updated_data.ADDRTYPE.astype('uint8')\n",
    "updated_data.LOCATION = updated_data.LOCATION.astype('uint8')\n",
    "updated_data.COLLISIONTYPE = updated_data.COLLISIONTYPE.astype('uint8')\n",
    "updated_data.PERSONCOUNT = updated_data.PERSONCOUNT.astype('uint8')\n",
    "updated_data.VEHCOUNT = updated_data.VEHCOUNT.astype('uint8')\n",
    "updated_data.JUNCTIONTYPE = updated_data.JUNCTIONTYPE.astype('uint8')\n",
    "updated_data.UNDERINFL = updated_data.UNDERINFL.astype('uint8')\n",
    "updated_data.WEATHER = updated_data.WEATHER.astype('uint8')\n",
    "updated_data.ROADCOND = updated_data.ROADCOND.astype('uint8')\n",
    "updated_data.LIGHTCOND = updated_data.LIGHTCOND.astype('uint8')\n",
    "updated_data.SPEEDING = updated_data.SPEEDING.astype('uint8')\n",
    "updated_data.HITPARKEDCAR = updated_data.HITPARKEDCAR.astype('uint8')\n",
    "updated_data.SEVERITYCODE = updated_data.SEVERITYCODE.astype('uint8')\n",
    "\n",
    "\n",
    "updated_data.ADDRTYPE_COLLISION = updated_data.ADDRTYPE_COLLISION.astype('uint8')\n",
    "updated_data.COLLISIONTYPE_JUNCTION = updated_data.COLLISIONTYPE_JUNCTION.astype('uint8')\n",
    "updated_data.UNDERINFL_INATTENTION = updated_data.UNDERINFL_INATTENTION.astype('uint8')\n",
    "updated_data.WEATHER_ROADCOND = updated_data.WEATHER_ROADCOND.astype('uint8')\n",
    "updated_data.UNDERINFL_HITPARKED = updated_data.UNDERINFL_HITPARKED.astype('uint8')\n",
    "updated_data.UNDERINFL_SPEED = updated_data.UNDERINFL_SPEED.astype('uint8')\n",
    "updated_data.LIGHT_ROAD_COND = updated_data.LIGHT_ROAD_COND.astype('uint8')\n",
    "updated_data.INATTENTION_HITPARKED = updated_data.INATTENTION_HITPARKED.astype('uint8')\n",
    "updated_data.ADDRTPE_JUNCTION_COLLISION  = updated_data.ADDRTPE_JUNCTION_COLLISION.astype('uint8')"
   ]
  },
  {
   "cell_type": "markdown",
   "metadata": {},
   "source": [
    "#### After so many changes, creating a copy of the data"
   ]
  },
  {
   "cell_type": "code",
   "execution_count": 97,
   "metadata": {},
   "outputs": [],
   "source": [
    "formatted_data = updated_data.copy()"
   ]
  },
  {
   "cell_type": "markdown",
   "metadata": {},
   "source": [
    "### PREPARING DATA FOR MODEL"
   ]
  },
  {
   "cell_type": "markdown",
   "metadata": {},
   "source": [
    "#### Feature Selection"
   ]
  },
  {
   "cell_type": "markdown",
   "metadata": {},
   "source": [
    "#### Splitting the data into training and test set for the feature selection"
   ]
  },
  {
   "cell_type": "code",
   "execution_count": 98,
   "metadata": {},
   "outputs": [],
   "source": [
    "from sklearn.model_selection import train_test_split\n",
    "\n",
    "X_train, X_test, y_train, y_test = train_test_split(X_samp, y_samp, test_size = 0.2, random_state = 0)"
   ]
  },
  {
   "cell_type": "code",
   "execution_count": 99,
   "metadata": {},
   "outputs": [
    {
     "data": {
      "text/plain": [
       "array([[ 0,  4,  1, ...,  0, 37, 28],\n",
       "       [ 1,  0,  5, ...,  0, 44, 55],\n",
       "       [ 0,  7,  2, ...,  0, 15, 21],\n",
       "       ...,\n",
       "       [ 1,  7,  4, ...,  0, 36, 62],\n",
       "       [ 1,  0,  2, ...,  0, 44, 55],\n",
       "       [ 0,  7,  3, ...,  0, 44, 31]], dtype=int64)"
      ]
     },
     "execution_count": 99,
     "metadata": {},
     "output_type": "execute_result"
    }
   ],
   "source": [
    "from sklearn.feature_selection import SelectKBest, f_classif\n",
    "\n",
    "features_cols = formatted_data.columns.drop('SEVERITYCODE')\n",
    "selector = SelectKBest(f_classif, k =15)\n",
    "\n",
    "X_new = selector.fit_transform(X_train,y_train)\n",
    "\n",
    "X_new"
   ]
  },
  {
   "cell_type": "code",
   "execution_count": 100,
   "metadata": {},
   "outputs": [
    {
     "data": {
      "text/html": [
       "<div>\n",
       "<style scoped>\n",
       "    .dataframe tbody tr th:only-of-type {\n",
       "        vertical-align: middle;\n",
       "    }\n",
       "\n",
       "    .dataframe tbody tr th {\n",
       "        vertical-align: top;\n",
       "    }\n",
       "\n",
       "    .dataframe thead th {\n",
       "        text-align: right;\n",
       "    }\n",
       "</style>\n",
       "<table border=\"1\" class=\"dataframe\">\n",
       "  <thead>\n",
       "    <tr style=\"text-align: right;\">\n",
       "      <th></th>\n",
       "      <th>ADDRTYPE</th>\n",
       "      <th>LOCATION</th>\n",
       "      <th>COLLISIONTYPE</th>\n",
       "      <th>PERSONCOUNT</th>\n",
       "      <th>VEHCOUNT</th>\n",
       "      <th>JUNCTIONTYPE</th>\n",
       "      <th>INATTENTIONIND</th>\n",
       "      <th>UNDERINFL</th>\n",
       "      <th>WEATHER</th>\n",
       "      <th>ROADCOND</th>\n",
       "      <th>...</th>\n",
       "      <th>HITPARKEDCAR</th>\n",
       "      <th>ADDRTYPE_COLLISION</th>\n",
       "      <th>COLLISIONTYPE_JUNCTION</th>\n",
       "      <th>UNDERINFL_INATTENTION</th>\n",
       "      <th>WEATHER_ROADCOND</th>\n",
       "      <th>UNDERINFL_HITPARKED</th>\n",
       "      <th>UNDERINFL_SPEED</th>\n",
       "      <th>LIGHT_ROAD_COND</th>\n",
       "      <th>INATTENTION_HITPARKED</th>\n",
       "      <th>ADDRTPE_JUNCTION_COLLISION</th>\n",
       "    </tr>\n",
       "  </thead>\n",
       "  <tbody>\n",
       "    <tr>\n",
       "      <th>0</th>\n",
       "      <td>0</td>\n",
       "      <td>0</td>\n",
       "      <td>4</td>\n",
       "      <td>1</td>\n",
       "      <td>1</td>\n",
       "      <td>4</td>\n",
       "      <td>0</td>\n",
       "      <td>0</td>\n",
       "      <td>7</td>\n",
       "      <td>0</td>\n",
       "      <td>...</td>\n",
       "      <td>0</td>\n",
       "      <td>4</td>\n",
       "      <td>28</td>\n",
       "      <td>1</td>\n",
       "      <td>51</td>\n",
       "      <td>0</td>\n",
       "      <td>0</td>\n",
       "      <td>37</td>\n",
       "      <td>0</td>\n",
       "      <td>28</td>\n",
       "    </tr>\n",
       "    <tr>\n",
       "      <th>1</th>\n",
       "      <td>1</td>\n",
       "      <td>0</td>\n",
       "      <td>0</td>\n",
       "      <td>5</td>\n",
       "      <td>2</td>\n",
       "      <td>1</td>\n",
       "      <td>0</td>\n",
       "      <td>0</td>\n",
       "      <td>6</td>\n",
       "      <td>0</td>\n",
       "      <td>...</td>\n",
       "      <td>0</td>\n",
       "      <td>10</td>\n",
       "      <td>1</td>\n",
       "      <td>0</td>\n",
       "      <td>49</td>\n",
       "      <td>0</td>\n",
       "      <td>0</td>\n",
       "      <td>44</td>\n",
       "      <td>0</td>\n",
       "      <td>55</td>\n",
       "    </tr>\n",
       "    <tr>\n",
       "      <th>2</th>\n",
       "      <td>0</td>\n",
       "      <td>0</td>\n",
       "      <td>7</td>\n",
       "      <td>2</td>\n",
       "      <td>2</td>\n",
       "      <td>3</td>\n",
       "      <td>0</td>\n",
       "      <td>0</td>\n",
       "      <td>1</td>\n",
       "      <td>0</td>\n",
       "      <td>...</td>\n",
       "      <td>0</td>\n",
       "      <td>7</td>\n",
       "      <td>47</td>\n",
       "      <td>0</td>\n",
       "      <td>6</td>\n",
       "      <td>0</td>\n",
       "      <td>0</td>\n",
       "      <td>15</td>\n",
       "      <td>0</td>\n",
       "      <td>21</td>\n",
       "    </tr>\n",
       "    <tr>\n",
       "      <th>3</th>\n",
       "      <td>0</td>\n",
       "      <td>0</td>\n",
       "      <td>4</td>\n",
       "      <td>2</td>\n",
       "      <td>2</td>\n",
       "      <td>4</td>\n",
       "      <td>0</td>\n",
       "      <td>0</td>\n",
       "      <td>1</td>\n",
       "      <td>0</td>\n",
       "      <td>...</td>\n",
       "      <td>0</td>\n",
       "      <td>4</td>\n",
       "      <td>28</td>\n",
       "      <td>0</td>\n",
       "      <td>6</td>\n",
       "      <td>0</td>\n",
       "      <td>0</td>\n",
       "      <td>36</td>\n",
       "      <td>0</td>\n",
       "      <td>28</td>\n",
       "    </tr>\n",
       "    <tr>\n",
       "      <th>4</th>\n",
       "      <td>0</td>\n",
       "      <td>0</td>\n",
       "      <td>5</td>\n",
       "      <td>2</td>\n",
       "      <td>2</td>\n",
       "      <td>4</td>\n",
       "      <td>0</td>\n",
       "      <td>0</td>\n",
       "      <td>10</td>\n",
       "      <td>0</td>\n",
       "      <td>...</td>\n",
       "      <td>0</td>\n",
       "      <td>5</td>\n",
       "      <td>35</td>\n",
       "      <td>0</td>\n",
       "      <td>73</td>\n",
       "      <td>0</td>\n",
       "      <td>0</td>\n",
       "      <td>68</td>\n",
       "      <td>0</td>\n",
       "      <td>29</td>\n",
       "    </tr>\n",
       "  </tbody>\n",
       "</table>\n",
       "<p>5 rows × 22 columns</p>\n",
       "</div>"
      ],
      "text/plain": [
       "   ADDRTYPE  LOCATION  COLLISIONTYPE  PERSONCOUNT  VEHCOUNT  JUNCTIONTYPE  \\\n",
       "0         0         0              4            1         1             4   \n",
       "1         1         0              0            5         2             1   \n",
       "2         0         0              7            2         2             3   \n",
       "3         0         0              4            2         2             4   \n",
       "4         0         0              5            2         2             4   \n",
       "\n",
       "   INATTENTIONIND  UNDERINFL  WEATHER  ROADCOND  ...  HITPARKEDCAR  \\\n",
       "0               0          0        7         0  ...             0   \n",
       "1               0          0        6         0  ...             0   \n",
       "2               0          0        1         0  ...             0   \n",
       "3               0          0        1         0  ...             0   \n",
       "4               0          0       10         0  ...             0   \n",
       "\n",
       "   ADDRTYPE_COLLISION  COLLISIONTYPE_JUNCTION  UNDERINFL_INATTENTION  \\\n",
       "0                   4                      28                      1   \n",
       "1                  10                       1                      0   \n",
       "2                   7                      47                      0   \n",
       "3                   4                      28                      0   \n",
       "4                   5                      35                      0   \n",
       "\n",
       "   WEATHER_ROADCOND  UNDERINFL_HITPARKED  UNDERINFL_SPEED  LIGHT_ROAD_COND  \\\n",
       "0                51                    0                0               37   \n",
       "1                49                    0                0               44   \n",
       "2                 6                    0                0               15   \n",
       "3                 6                    0                0               36   \n",
       "4                73                    0                0               68   \n",
       "\n",
       "   INATTENTION_HITPARKED  ADDRTPE_JUNCTION_COLLISION  \n",
       "0                      0                          28  \n",
       "1                      0                          55  \n",
       "2                      0                          21  \n",
       "3                      0                          28  \n",
       "4                      0                          29  \n",
       "\n",
       "[5 rows x 22 columns]"
      ]
     },
     "execution_count": 100,
     "metadata": {},
     "output_type": "execute_result"
    }
   ],
   "source": [
    "selected_features = pd.DataFrame(selector.inverse_transform(X_new), columns = features_cols)\n",
    "selected_features.head()"
   ]
  },
  {
   "cell_type": "code",
   "execution_count": 101,
   "metadata": {},
   "outputs": [],
   "source": [
    "features_selected = selected_features.columns[selected_features.var()!=0]"
   ]
  },
  {
   "cell_type": "code",
   "execution_count": 102,
   "metadata": {},
   "outputs": [
    {
     "data": {
      "text/plain": [
       "Index(['ADDRTYPE', 'COLLISIONTYPE', 'PERSONCOUNT', 'VEHCOUNT', 'JUNCTIONTYPE',\n",
       "       'WEATHER', 'LIGHTCOND', 'HITPARKEDCAR', 'ADDRTYPE_COLLISION',\n",
       "       'COLLISIONTYPE_JUNCTION', 'UNDERINFL_INATTENTION', 'WEATHER_ROADCOND',\n",
       "       'UNDERINFL_SPEED', 'LIGHT_ROAD_COND', 'ADDRTPE_JUNCTION_COLLISION'],\n",
       "      dtype='object')"
      ]
     },
     "execution_count": 102,
     "metadata": {},
     "output_type": "execute_result"
    }
   ],
   "source": [
    "features_selected"
   ]
  },
  {
   "cell_type": "markdown",
   "metadata": {},
   "source": [
    "#### Splitting the data into training and test set for the model"
   ]
  },
  {
   "cell_type": "code",
   "execution_count": 103,
   "metadata": {},
   "outputs": [],
   "source": [
    "X = updated_data[features_selected]\n",
    "y = updated_data.SEVERITYCODE\n",
    "\n",
    "from sklearn.model_selection import train_test_split\n",
    "\n",
    "X_train, X_test, y_train, y_test = train_test_split(X, y, test_size = 0.25, random_state = 0)"
   ]
  },
  {
   "cell_type": "markdown",
   "metadata": {},
   "source": [
    "#### Scaling the data"
   ]
  },
  {
   "cell_type": "code",
   "execution_count": 104,
   "metadata": {},
   "outputs": [],
   "source": [
    "from sklearn.preprocessing import StandardScaler, RobustScaler\n",
    "sc = StandardScaler()\n",
    "\n",
    "X_train = sc.fit_transform(X_train)\n",
    "X_test = sc.transform(X_test)"
   ]
  },
  {
   "cell_type": "markdown",
   "metadata": {},
   "source": [
    "#### Preparing the model"
   ]
  },
  {
   "cell_type": "code",
   "execution_count": 105,
   "metadata": {},
   "outputs": [],
   "source": [
    "from sklearn.linear_model import LogisticRegression\n",
    "from sklearn.model_selection import cross_val_score\n",
    "from sklearn.pipeline import Pipeline\n",
    "from sklearn.impute import SimpleImputer\n",
    "from sklearn.tree import DecisionTreeClassifier\n",
    "from sklearn.ensemble import RandomForestClassifier\n",
    "from sklearn.neighbors import KNeighborsClassifier\n",
    "from sklearn. svm import SVC\n",
    "from sklearn.naive_bayes import GaussianNB\n",
    "\n",
    "from sklearn import decomposition, datasets\n",
    "from sklearn import tree\n",
    "from sklearn.pipeline import Pipeline\n",
    "from sklearn.model_selection import GridSearchCV, cross_val_score\n",
    "from sklearn.preprocessing import StandardScaler\n",
    "from sklearn.metrics import f1_score, recall_score, confusion_matrix\n",
    "from sklearn.metrics import roc_auc_score, accuracy_score\n",
    "\n",
    "import warnings\n",
    "warnings.filterwarnings(\"ignore\")"
   ]
  },
  {
   "cell_type": "code",
   "execution_count": 106,
   "metadata": {},
   "outputs": [],
   "source": [
    "names = ['K NEAREST NEIGHBOURS','STOCHASTIC GRADIENT DESCENT', 'DECISION TREE CLASSIFIER', 'LOGISTIC REGRESSION', 'RANDOM FOREST CLASSIFIER', 'NAIVE BAYES']\n",
    "cross_val_scores = []\n",
    "accuracyscore = []\n",
    "f1score = []\n",
    "recallscore = []\n",
    "roc_aucscore = []"
   ]
  },
  {
   "cell_type": "code",
   "execution_count": 107,
   "metadata": {},
   "outputs": [
    {
     "name": "stdout",
     "output_type": "stream",
     "text": [
      "\n",
      "K NEAREST NEIGHBOURS\n",
      "\n",
      "\n",
      "STOCHASTIC GRADIENT DESCENT\n",
      "\n",
      "\n",
      " DECISION TREE CLASSIFIER\n",
      "\n",
      "\n",
      " LOGISTIC REGRESSION\n",
      "\n",
      "\n",
      " RANDOM FOREST CLASSIFIER\n",
      "\n",
      "\n",
      " NAIVE BAYES\n",
      "\n"
     ]
    }
   ],
   "source": [
    "print(\"\\nK NEAREST NEIGHBOURS\\n\")\n",
    "my_pipeline = Pipeline(steps=[('preprocessor', SimpleImputer()),\n",
    "                              ('model', KNeighborsClassifier(n_neighbors = 10, metric = 'minkowski', algorithm='auto', p = 2))\n",
    "                             ])\n",
    "\n",
    "\n",
    "cv_scores = cross_val_score(my_pipeline, X, y, cv=5, scoring='accuracy')\n",
    "\n",
    "cross_val_scores.append(cv_scores.mean())\n",
    "\n",
    "my_pipeline.fit(X_train, y_train)\n",
    "\n",
    "y_pred = my_pipeline.predict(X_test)\n",
    "cm = confusion_matrix(y_test, y_pred)\n",
    "accuracyscore.append(accuracy_score(y_test, y_pred))\n",
    "f1score.append(f1_score(y_test, y_pred))\n",
    "recallscore.append(recall_score(y_test, y_pred))\n",
    "roc_aucscore.append(roc_auc_score(y_test, y_pred))\n",
    "\n",
    "\n",
    "\n",
    "\n",
    "print(\"\\nSTOCHASTIC GRADIENT DESCENT\\n\")\n",
    "\n",
    "\n",
    "from sklearn.linear_model import SGDClassifier\n",
    "my_pipeline = Pipeline(steps=[('preprocessor', SimpleImputer()),\n",
    "                              ('model', SGDClassifier(loss=\"modified_huber\", shuffle=True, random_state=101))\n",
    "                             ])\n",
    "\n",
    "cv_scores = cross_val_score(my_pipeline, X, y, cv=5, scoring='accuracy')\n",
    "cross_val_scores.append(cv_scores.mean())\n",
    "\n",
    "my_pipeline.fit(X_train, y_train)\n",
    "\n",
    "y_pred = my_pipeline.predict(X_test)\n",
    "cm = confusion_matrix(y_test, y_pred)\n",
    "accuracyscore.append(accuracy_score(y_test, y_pred))\n",
    "f1score.append(f1_score(y_test, y_pred))\n",
    "recallscore.append(recall_score(y_test, y_pred))\n",
    "roc_aucscore.append(roc_auc_score(y_test, y_pred))\n",
    "\n",
    "\n",
    "\n",
    "\n",
    "\n",
    "\n",
    "print(\"\\n DECISION TREE CLASSIFIER\\n\")\n",
    "my_pipeline = Pipeline(steps=[('preprocessor', SimpleImputer()),\n",
    "                              ('model', DecisionTreeClassifier(criterion = 'entropy', random_state = 0))\n",
    "                             ])\n",
    "\n",
    "\n",
    "cv_scores = cross_val_score(my_pipeline, X, y, cv=5, scoring='accuracy')\n",
    "cross_val_scores.append(cv_scores.mean())\n",
    "\n",
    "my_pipeline.fit(X_train, y_train)\n",
    "\n",
    "y_pred = my_pipeline.predict(X_test)\n",
    "cm = confusion_matrix(y_test, y_pred)\n",
    "accuracyscore.append(accuracy_score(y_test, y_pred))\n",
    "f1score.append(f1_score(y_test, y_pred))\n",
    "recallscore.append(recall_score(y_test, y_pred))\n",
    "roc_aucscore.append(roc_auc_score(y_test, y_pred))\n",
    "\n",
    "\n",
    "\n",
    "\n",
    "\n",
    "\n",
    "print(\"\\n LOGISTIC REGRESSION\\n\")\n",
    "my_pipeline = Pipeline(steps=[('preprocessor', SimpleImputer()),\n",
    "                              ('model', LogisticRegression())\n",
    "                             ])\n",
    "\n",
    "\n",
    "cv_scores = cross_val_score(my_pipeline, X, y, cv=5, scoring='accuracy')\n",
    "cross_val_scores.append(cv_scores.mean())\n",
    "\n",
    "my_pipeline.fit(X_train, y_train)\n",
    "\n",
    "y_pred = my_pipeline.predict(X_test)\n",
    "cm = confusion_matrix(y_test, y_pred)\n",
    "accuracyscore.append(accuracy_score(y_test, y_pred))\n",
    "f1score.append(f1_score(y_test, y_pred))\n",
    "recallscore.append(recall_score(y_test, y_pred))\n",
    "roc_aucscore.append(roc_auc_score(y_test, y_pred))\n",
    "\n",
    "\n",
    "\n",
    "\n",
    "\n",
    "\n",
    "print(\"\\n RANDOM FOREST CLASSIFIER\\n\")\n",
    "my_pipeline = Pipeline(steps=[('preprocessor', SimpleImputer()),\n",
    "                              ('model', RandomForestClassifier(n_estimators = 100, criterion = 'entropy', random_state = 0))\n",
    "                             ])\n",
    "\n",
    "\n",
    "cv_scores = cross_val_score(my_pipeline, X, y, cv=5, scoring='accuracy')\n",
    "cross_val_scores.append(cv_scores.mean())\n",
    "\n",
    "my_pipeline.fit(X_train, y_train)\n",
    "\n",
    "y_pred = my_pipeline.predict(X_test)\n",
    "cm = confusion_matrix(y_test, y_pred)\n",
    "accuracyscore.append(accuracy_score(y_test, y_pred))\n",
    "f1score.append(f1_score(y_test, y_pred))\n",
    "recallscore.append(recall_score(y_test, y_pred))\n",
    "roc_aucscore.append(roc_auc_score(y_test, y_pred))\n",
    "\n",
    "\n",
    "\n",
    "\n",
    "print(\"\\n NAIVE BAYES\\n\")\n",
    "my_pipeline = Pipeline(steps=[('preprocessor', SimpleImputer()),\n",
    "                              ('model', GaussianNB())\n",
    "                             ])\n",
    "\n",
    "\n",
    "cv_scores = cross_val_score(my_pipeline, X, y, cv=5, scoring='accuracy')\n",
    "cross_val_scores.append(cv_scores.mean())\n",
    "\n",
    "my_pipeline.fit(X_train, y_train)\n",
    "\n",
    "y_pred = my_pipeline.predict(X_test)\n",
    "cm = confusion_matrix(y_test, y_pred)\n",
    "accuracyscore.append(accuracy_score(y_test, y_pred))\n",
    "f1score.append(f1_score(y_test, y_pred))\n",
    "recallscore.append(recall_score(y_test, y_pred))\n",
    "roc_aucscore.append(roc_auc_score(y_test, y_pred))"
   ]
  },
  {
   "cell_type": "code",
   "execution_count": 108,
   "metadata": {},
   "outputs": [
    {
     "data": {
      "text/html": [
       "<div>\n",
       "<style scoped>\n",
       "    .dataframe tbody tr th:only-of-type {\n",
       "        vertical-align: middle;\n",
       "    }\n",
       "\n",
       "    .dataframe tbody tr th {\n",
       "        vertical-align: top;\n",
       "    }\n",
       "\n",
       "    .dataframe thead th {\n",
       "        text-align: right;\n",
       "    }\n",
       "</style>\n",
       "<table border=\"1\" class=\"dataframe\">\n",
       "  <thead>\n",
       "    <tr style=\"text-align: right;\">\n",
       "      <th></th>\n",
       "      <th>Name</th>\n",
       "      <th>CROSS VALIDATION SCORE</th>\n",
       "      <th>Accuracy Score</th>\n",
       "      <th>F1-SCORE</th>\n",
       "      <th>RECALL SCORE</th>\n",
       "      <th>ROC AUC SCORE</th>\n",
       "    </tr>\n",
       "  </thead>\n",
       "  <tbody>\n",
       "    <tr>\n",
       "      <th>0</th>\n",
       "      <td>K NEAREST NEIGHBOURS</td>\n",
       "      <td>0.735220</td>\n",
       "      <td>0.738389</td>\n",
       "      <td>0.829792</td>\n",
       "      <td>0.922786</td>\n",
       "      <td>0.624352</td>\n",
       "    </tr>\n",
       "    <tr>\n",
       "      <th>1</th>\n",
       "      <td>STOCHASTIC GRADIENT DESCENT</td>\n",
       "      <td>0.641212</td>\n",
       "      <td>0.721563</td>\n",
       "      <td>0.819504</td>\n",
       "      <td>0.914670</td>\n",
       "      <td>0.602140</td>\n",
       "    </tr>\n",
       "    <tr>\n",
       "      <th>2</th>\n",
       "      <td>DECISION TREE CLASSIFIER</td>\n",
       "      <td>0.739288</td>\n",
       "      <td>0.736948</td>\n",
       "      <td>0.829404</td>\n",
       "      <td>0.925320</td>\n",
       "      <td>0.620453</td>\n",
       "    </tr>\n",
       "    <tr>\n",
       "      <th>3</th>\n",
       "      <td>LOGISTIC REGRESSION</td>\n",
       "      <td>0.720810</td>\n",
       "      <td>0.724357</td>\n",
       "      <td>0.822691</td>\n",
       "      <td>0.925352</td>\n",
       "      <td>0.600054</td>\n",
       "    </tr>\n",
       "    <tr>\n",
       "      <th>4</th>\n",
       "      <td>RANDOM FOREST CLASSIFIER</td>\n",
       "      <td>0.740945</td>\n",
       "      <td>0.738544</td>\n",
       "      <td>0.829626</td>\n",
       "      <td>0.921150</td>\n",
       "      <td>0.625615</td>\n",
       "    </tr>\n",
       "    <tr>\n",
       "      <th>5</th>\n",
       "      <td>NAIVE BAYES</td>\n",
       "      <td>0.637965</td>\n",
       "      <td>0.634419</td>\n",
       "      <td>0.710374</td>\n",
       "      <td>0.648767</td>\n",
       "      <td>0.625546</td>\n",
       "    </tr>\n",
       "  </tbody>\n",
       "</table>\n",
       "</div>"
      ],
      "text/plain": [
       "                          Name  CROSS VALIDATION SCORE  Accuracy Score  \\\n",
       "0         K NEAREST NEIGHBOURS                0.735220        0.738389   \n",
       "1  STOCHASTIC GRADIENT DESCENT                0.641212        0.721563   \n",
       "2     DECISION TREE CLASSIFIER                0.739288        0.736948   \n",
       "3          LOGISTIC REGRESSION                0.720810        0.724357   \n",
       "4     RANDOM FOREST CLASSIFIER                0.740945        0.738544   \n",
       "5                  NAIVE BAYES                0.637965        0.634419   \n",
       "\n",
       "   F1-SCORE  RECALL SCORE  ROC AUC SCORE  \n",
       "0  0.829792      0.922786       0.624352  \n",
       "1  0.819504      0.914670       0.602140  \n",
       "2  0.829404      0.925320       0.620453  \n",
       "3  0.822691      0.925352       0.600054  \n",
       "4  0.829626      0.921150       0.625615  \n",
       "5  0.710374      0.648767       0.625546  "
      ]
     },
     "execution_count": 108,
     "metadata": {},
     "output_type": "execute_result"
    }
   ],
   "source": [
    "models = pd.DataFrame({'Name' : names, 'CROSS VALIDATION SCORE' : cross_val_scores, \n",
    "                       'Accuracy Score' : accuracyscore, 'F1-SCORE' : f1score,\n",
    "                      'RECALL SCORE' : recallscore, 'ROC AUC SCORE' : roc_aucscore})\n",
    "\n",
    "models"
   ]
  },
  {
   "cell_type": "markdown",
   "metadata": {},
   "source": [
    "### PERMUTATION IMPORTANCE"
   ]
  },
  {
   "cell_type": "code",
   "execution_count": 109,
   "metadata": {},
   "outputs": [
    {
     "data": {
      "text/html": [
       "\n",
       "    <style>\n",
       "    table.eli5-weights tr:hover {\n",
       "        filter: brightness(85%);\n",
       "    }\n",
       "</style>\n",
       "\n",
       "\n",
       "\n",
       "    \n",
       "\n",
       "    \n",
       "\n",
       "    \n",
       "\n",
       "    \n",
       "\n",
       "    \n",
       "\n",
       "    \n",
       "\n",
       "\n",
       "    \n",
       "\n",
       "    \n",
       "\n",
       "    \n",
       "\n",
       "    \n",
       "\n",
       "    \n",
       "\n",
       "    \n",
       "\n",
       "\n",
       "    \n",
       "\n",
       "    \n",
       "\n",
       "    \n",
       "\n",
       "    \n",
       "\n",
       "    \n",
       "        <table class=\"eli5-weights eli5-feature-importances\" style=\"border-collapse: collapse; border: none; margin-top: 0em; table-layout: auto;\">\n",
       "    <thead>\n",
       "    <tr style=\"border: none;\">\n",
       "        <th style=\"padding: 0 1em 0 0.5em; text-align: right; border: none;\">Weight</th>\n",
       "        <th style=\"padding: 0 0.5em 0 0.5em; text-align: left; border: none;\">Feature</th>\n",
       "    </tr>\n",
       "    </thead>\n",
       "    <tbody>\n",
       "    \n",
       "        <tr style=\"background-color: hsl(120, 100.00%, 80.00%); border: none;\">\n",
       "            <td style=\"padding: 0 1em 0 0.5em; text-align: right; border: none;\">\n",
       "                0.0128\n",
       "                \n",
       "                    &plusmn; 0.0013\n",
       "                \n",
       "            </td>\n",
       "            <td style=\"padding: 0 0.5em 0 0.5em; text-align: left; border: none;\">\n",
       "                VEHCOUNT\n",
       "            </td>\n",
       "        </tr>\n",
       "    \n",
       "        <tr style=\"background-color: hsl(120, 100.00%, 84.72%); border: none;\">\n",
       "            <td style=\"padding: 0 1em 0 0.5em; text-align: right; border: none;\">\n",
       "                0.0087\n",
       "                \n",
       "                    &plusmn; 0.0005\n",
       "                \n",
       "            </td>\n",
       "            <td style=\"padding: 0 0.5em 0 0.5em; text-align: left; border: none;\">\n",
       "                PERSONCOUNT\n",
       "            </td>\n",
       "        </tr>\n",
       "    \n",
       "        <tr style=\"background-color: hsl(120, 100.00%, 88.95%); border: none;\">\n",
       "            <td style=\"padding: 0 1em 0 0.5em; text-align: right; border: none;\">\n",
       "                0.0055\n",
       "                \n",
       "                    &plusmn; 0.0010\n",
       "                \n",
       "            </td>\n",
       "            <td style=\"padding: 0 0.5em 0 0.5em; text-align: left; border: none;\">\n",
       "                ADDRTYPE\n",
       "            </td>\n",
       "        </tr>\n",
       "    \n",
       "        <tr style=\"background-color: hsl(120, 100.00%, 89.79%); border: none;\">\n",
       "            <td style=\"padding: 0 1em 0 0.5em; text-align: right; border: none;\">\n",
       "                0.0049\n",
       "                \n",
       "                    &plusmn; 0.0008\n",
       "                \n",
       "            </td>\n",
       "            <td style=\"padding: 0 0.5em 0 0.5em; text-align: left; border: none;\">\n",
       "                UNDERINFL_SPEED\n",
       "            </td>\n",
       "        </tr>\n",
       "    \n",
       "        <tr style=\"background-color: hsl(120, 100.00%, 91.28%); border: none;\">\n",
       "            <td style=\"padding: 0 1em 0 0.5em; text-align: right; border: none;\">\n",
       "                0.0039\n",
       "                \n",
       "                    &plusmn; 0.0007\n",
       "                \n",
       "            </td>\n",
       "            <td style=\"padding: 0 0.5em 0 0.5em; text-align: left; border: none;\">\n",
       "                JUNCTIONTYPE\n",
       "            </td>\n",
       "        </tr>\n",
       "    \n",
       "        <tr style=\"background-color: hsl(120, 100.00%, 92.23%); border: none;\">\n",
       "            <td style=\"padding: 0 1em 0 0.5em; text-align: right; border: none;\">\n",
       "                0.0033\n",
       "                \n",
       "                    &plusmn; 0.0007\n",
       "                \n",
       "            </td>\n",
       "            <td style=\"padding: 0 0.5em 0 0.5em; text-align: left; border: none;\">\n",
       "                UNDERINFL_INATTENTION\n",
       "            </td>\n",
       "        </tr>\n",
       "    \n",
       "        <tr style=\"background-color: hsl(120, 100.00%, 93.00%); border: none;\">\n",
       "            <td style=\"padding: 0 1em 0 0.5em; text-align: right; border: none;\">\n",
       "                0.0029\n",
       "                \n",
       "                    &plusmn; 0.0010\n",
       "                \n",
       "            </td>\n",
       "            <td style=\"padding: 0 0.5em 0 0.5em; text-align: left; border: none;\">\n",
       "                ADDRTPE_JUNCTION_COLLISION\n",
       "            </td>\n",
       "        </tr>\n",
       "    \n",
       "        <tr style=\"background-color: hsl(120, 100.00%, 93.00%); border: none;\">\n",
       "            <td style=\"padding: 0 1em 0 0.5em; text-align: right; border: none;\">\n",
       "                0.0029\n",
       "                \n",
       "                    &plusmn; 0.0008\n",
       "                \n",
       "            </td>\n",
       "            <td style=\"padding: 0 0.5em 0 0.5em; text-align: left; border: none;\">\n",
       "                ADDRTYPE_COLLISION\n",
       "            </td>\n",
       "        </tr>\n",
       "    \n",
       "        <tr style=\"background-color: hsl(120, 100.00%, 97.03%); border: none;\">\n",
       "            <td style=\"padding: 0 1em 0 0.5em; text-align: right; border: none;\">\n",
       "                0.0008\n",
       "                \n",
       "                    &plusmn; 0.0007\n",
       "                \n",
       "            </td>\n",
       "            <td style=\"padding: 0 0.5em 0 0.5em; text-align: left; border: none;\">\n",
       "                HITPARKEDCAR\n",
       "            </td>\n",
       "        </tr>\n",
       "    \n",
       "        <tr style=\"background-color: hsl(120, 100.00%, 98.68%); border: none;\">\n",
       "            <td style=\"padding: 0 1em 0 0.5em; text-align: right; border: none;\">\n",
       "                0.0003\n",
       "                \n",
       "                    &plusmn; 0.0004\n",
       "                \n",
       "            </td>\n",
       "            <td style=\"padding: 0 0.5em 0 0.5em; text-align: left; border: none;\">\n",
       "                COLLISIONTYPE_JUNCTION\n",
       "            </td>\n",
       "        </tr>\n",
       "    \n",
       "        <tr style=\"background-color: hsl(0, 100.00%, 99.50%); border: none;\">\n",
       "            <td style=\"padding: 0 1em 0 0.5em; text-align: right; border: none;\">\n",
       "                -0.0001\n",
       "                \n",
       "                    &plusmn; 0.0006\n",
       "                \n",
       "            </td>\n",
       "            <td style=\"padding: 0 0.5em 0 0.5em; text-align: left; border: none;\">\n",
       "                COLLISIONTYPE\n",
       "            </td>\n",
       "        </tr>\n",
       "    \n",
       "        <tr style=\"background-color: hsl(0, 100.00%, 97.63%); border: none;\">\n",
       "            <td style=\"padding: 0 1em 0 0.5em; text-align: right; border: none;\">\n",
       "                -0.0006\n",
       "                \n",
       "                    &plusmn; 0.0002\n",
       "                \n",
       "            </td>\n",
       "            <td style=\"padding: 0 0.5em 0 0.5em; text-align: left; border: none;\">\n",
       "                LIGHTCOND\n",
       "            </td>\n",
       "        </tr>\n",
       "    \n",
       "        <tr style=\"background-color: hsl(0, 100.00%, 95.38%); border: none;\">\n",
       "            <td style=\"padding: 0 1em 0 0.5em; text-align: right; border: none;\">\n",
       "                -0.0016\n",
       "                \n",
       "                    &plusmn; 0.0004\n",
       "                \n",
       "            </td>\n",
       "            <td style=\"padding: 0 0.5em 0 0.5em; text-align: left; border: none;\">\n",
       "                WEATHER_ROADCOND\n",
       "            </td>\n",
       "        </tr>\n",
       "    \n",
       "        <tr style=\"background-color: hsl(0, 100.00%, 93.03%); border: none;\">\n",
       "            <td style=\"padding: 0 1em 0 0.5em; text-align: right; border: none;\">\n",
       "                -0.0028\n",
       "                \n",
       "                    &plusmn; 0.0009\n",
       "                \n",
       "            </td>\n",
       "            <td style=\"padding: 0 0.5em 0 0.5em; text-align: left; border: none;\">\n",
       "                WEATHER\n",
       "            </td>\n",
       "        </tr>\n",
       "    \n",
       "        <tr style=\"background-color: hsl(0, 100.00%, 93.02%); border: none;\">\n",
       "            <td style=\"padding: 0 1em 0 0.5em; text-align: right; border: none;\">\n",
       "                -0.0028\n",
       "                \n",
       "                    &plusmn; 0.0008\n",
       "                \n",
       "            </td>\n",
       "            <td style=\"padding: 0 0.5em 0 0.5em; text-align: left; border: none;\">\n",
       "                LIGHT_ROAD_COND\n",
       "            </td>\n",
       "        </tr>\n",
       "    \n",
       "    \n",
       "    </tbody>\n",
       "</table>\n",
       "    \n",
       "\n",
       "    \n",
       "\n",
       "\n",
       "    \n",
       "\n",
       "    \n",
       "\n",
       "    \n",
       "\n",
       "    \n",
       "\n",
       "    \n",
       "\n",
       "    \n",
       "\n",
       "\n",
       "\n"
      ],
      "text/plain": [
       "<IPython.core.display.HTML object>"
      ]
     },
     "execution_count": 109,
     "metadata": {},
     "output_type": "execute_result"
    }
   ],
   "source": [
    "import eli5\n",
    "from eli5.sklearn import PermutationImportance\n",
    "\n",
    "\n",
    "perm = PermutationImportance(my_pipeline, random_state=1).fit(X_train, y_train)\n",
    "eli5.show_weights(perm, feature_names = formatted_data[features_selected].columns.tolist())"
   ]
  },
  {
   "cell_type": "code",
   "execution_count": 110,
   "metadata": {},
   "outputs": [
    {
     "data": {
      "text/plain": [
       "Index(['ADDRTYPE', 'COLLISIONTYPE', 'PERSONCOUNT', 'VEHCOUNT', 'JUNCTIONTYPE',\n",
       "       'WEATHER', 'LIGHTCOND', 'HITPARKEDCAR', 'ADDRTYPE_COLLISION',\n",
       "       'COLLISIONTYPE_JUNCTION', 'UNDERINFL_INATTENTION', 'WEATHER_ROADCOND',\n",
       "       'UNDERINFL_SPEED', 'LIGHT_ROAD_COND', 'ADDRTPE_JUNCTION_COLLISION'],\n",
       "      dtype='object')"
      ]
     },
     "execution_count": 110,
     "metadata": {},
     "output_type": "execute_result"
    }
   ],
   "source": [
    "features_selected"
   ]
  },
  {
   "cell_type": "code",
   "execution_count": 111,
   "metadata": {},
   "outputs": [],
   "source": [
    "features_perm = ['ADDRTYPE', 'COLLISIONTYPE', 'PERSONCOUNT', 'VEHCOUNT', 'JUNCTIONTYPE',\n",
    "        'HITPARKEDCAR', 'ADDRTYPE_COLLISION', 'COLLISIONTYPE_JUNCTION', 'UNDERINFL_INATTENTION',  \n",
    "                 'UNDERINFL_SPEED', 'ADDRTPE_JUNCTION_COLLISION']"
   ]
  },
  {
   "cell_type": "code",
   "execution_count": 112,
   "metadata": {},
   "outputs": [],
   "source": [
    "X = updated_data[features_perm]\n",
    "y = updated_data.SEVERITYCODE\n",
    "\n",
    "from sklearn.model_selection import train_test_split\n",
    "\n",
    "X_train, X_test, y_train, y_test = train_test_split(X, y, test_size = 0.25, random_state = 0)"
   ]
  },
  {
   "cell_type": "code",
   "execution_count": 113,
   "metadata": {},
   "outputs": [],
   "source": [
    "from sklearn.preprocessing import StandardScaler, RobustScaler, MinMaxScaler\n",
    "sc = StandardScaler()\n",
    "\n",
    "X_train = sc.fit_transform(X_train)\n",
    "X_test = sc.transform(X_test)"
   ]
  },
  {
   "cell_type": "markdown",
   "metadata": {},
   "source": [
    "#### After selection the best model, tuning the hyperparameters"
   ]
  },
  {
   "cell_type": "code",
   "execution_count": 114,
   "metadata": {},
   "outputs": [
    {
     "name": "stdout",
     "output_type": "stream",
     "text": [
      "Best Criterion: gini\n",
      "Best max_depth: 12\n",
      "Best Number Of Components: 11\n",
      "\n",
      "DecisionTreeClassifier(max_depth=12)\n"
     ]
    }
   ],
   "source": [
    "pca = decomposition.PCA()\n",
    "\n",
    "# Create a logistic regression object with an L2 penalty\n",
    "decisiontree = tree.DecisionTreeClassifier()\n",
    "\n",
    "# Create a pipeline of three steps. First, standardize the data.\n",
    "# Second, tranform the data with PCA.\n",
    "# Third, train a Decision Tree Classifier on the data.\n",
    "pipe = Pipeline(steps=[('sc', sc),\n",
    "                       ('pca', pca),\n",
    "                       ('decisiontree', decisiontree)])\n",
    "\n",
    "# Create Parameter Space\n",
    "# Create a list of a sequence of integers from 1 to 30 (the number of features in X + 1)\n",
    "n_components = list(range(1,X_train.shape[1]+1,1))\n",
    "\n",
    "# Create lists of parameter for Decision Tree Classifier\n",
    "criterion = ['gini', 'entropy']\n",
    "max_depth = [4,6,8,12]\n",
    "\n",
    "# Create a dictionary of all the parameter options \n",
    "# Note has you can access the parameters of steps of a pipeline by using '__’\n",
    "parameters = dict(pca__n_components=n_components,\n",
    "                  decisiontree__criterion=criterion,\n",
    "                  decisiontree__max_depth=max_depth)\n",
    "\n",
    "# Conduct Parameter Optmization With Pipeline\n",
    "# Create a grid search object\n",
    "clf = GridSearchCV(pipe, parameters)\n",
    "\n",
    "# Fit the grid search\n",
    "clf.fit(X_train, y_train)\n",
    "\n",
    "# View The Best Parameters\n",
    "print('Best Criterion:', clf.best_estimator_.get_params()['decisiontree__criterion'])\n",
    "print('Best max_depth:', clf.best_estimator_.get_params()['decisiontree__max_depth'])\n",
    "print('Best Number Of Components:', clf.best_estimator_.get_params()['pca__n_components'])\n",
    "print(); print(clf.best_estimator_.get_params()['decisiontree'])"
   ]
  },
  {
   "cell_type": "code",
   "execution_count": 116,
   "metadata": {},
   "outputs": [],
   "source": [
    "names = ['DECISION TREE CLASSIFIER']\n",
    "cross_val_scores = []\n",
    "accuracyscore = []\n",
    "f1score = []\n",
    "recallscore = []\n",
    "roc_aucscore = []"
   ]
  },
  {
   "cell_type": "markdown",
   "metadata": {},
   "source": [
    "#### Using the parameters obtained above"
   ]
  },
  {
   "cell_type": "code",
   "execution_count": 117,
   "metadata": {},
   "outputs": [
    {
     "name": "stdout",
     "output_type": "stream",
     "text": [
      "\n",
      " DECISION TREE CLASSIFIER\n",
      "\n",
      "<class 'pandas.core.frame.DataFrame'>\n",
      "Int64Index: 180433 entries, 0 to 182659\n",
      "Columns: 23 entries, ADDRTYPE to ADDRTPE_JUNCTION_COLLISION\n",
      "dtypes: int32(1), uint8(22)\n",
      "memory usage: 5.9 MB\n"
     ]
    }
   ],
   "source": [
    "print(\"\\n DECISION TREE CLASSIFIER\\n\")\n",
    "pca = decomposition.PCA(n_components = 11)\n",
    "my_pipeline = Pipeline(steps=[('sc', sc),\n",
    "                              ('pca', pca),\n",
    "                              ('decisiontree', \n",
    "                               DecisionTreeClassifier(criterion = 'gini', \n",
    "                                                      max_depth = 12,\n",
    "                                                      random_state = 0))\n",
    "                             ])\n",
    "\n",
    "\n",
    "cv_scores = cross_val_score(my_pipeline, X, y, \n",
    "                            cv=5,\n",
    "                            scoring='accuracy')\n",
    "\n",
    "cross_val_scores.append(cv_scores.mean())\n",
    "\n",
    "my_pipeline.fit(X_train, y_train)\n",
    "\n",
    "y_pred = my_pipeline.predict(X_test)\n",
    "cm = confusion_matrix(y_test, y_pred)\n",
    "accuracyscore.append(accuracy_score(y_test, y_pred))\n",
    "\n",
    "from sklearn.metrics import f1_score, recall_score\n",
    "f1score.append(f1_score(y_test, y_pred))\n",
    "recallscore.append(recall_score(y_test, y_pred))\n",
    "\n",
    "from sklearn.metrics import roc_auc_score\n",
    "roc_aucscore.append(roc_auc_score(y_test, y_pred))\n",
    "\n",
    "formatted_data.info(verbose=False, memory_usage=\"deep\")"
   ]
  },
  {
   "cell_type": "code",
   "execution_count": 118,
   "metadata": {},
   "outputs": [
    {
     "data": {
      "text/html": [
       "<div>\n",
       "<style scoped>\n",
       "    .dataframe tbody tr th:only-of-type {\n",
       "        vertical-align: middle;\n",
       "    }\n",
       "\n",
       "    .dataframe tbody tr th {\n",
       "        vertical-align: top;\n",
       "    }\n",
       "\n",
       "    .dataframe thead th {\n",
       "        text-align: right;\n",
       "    }\n",
       "</style>\n",
       "<table border=\"1\" class=\"dataframe\">\n",
       "  <thead>\n",
       "    <tr style=\"text-align: right;\">\n",
       "      <th></th>\n",
       "      <th>Name</th>\n",
       "      <th>CROSS VALIDATION SCORE</th>\n",
       "      <th>Accuracy Score</th>\n",
       "      <th>F1-SCORE</th>\n",
       "      <th>RECALL SCORE</th>\n",
       "      <th>ROC AUC SCORE</th>\n",
       "    </tr>\n",
       "  </thead>\n",
       "  <tbody>\n",
       "    <tr>\n",
       "      <th>0</th>\n",
       "      <td>DECISION TREE CLASSIFIER</td>\n",
       "      <td>0.748289</td>\n",
       "      <td>0.745949</td>\n",
       "      <td>0.838651</td>\n",
       "      <td>0.95541</td>\n",
       "      <td>0.616411</td>\n",
       "    </tr>\n",
       "  </tbody>\n",
       "</table>\n",
       "</div>"
      ],
      "text/plain": [
       "                       Name  CROSS VALIDATION SCORE  Accuracy Score  F1-SCORE  \\\n",
       "0  DECISION TREE CLASSIFIER                0.748289        0.745949  0.838651   \n",
       "\n",
       "   RECALL SCORE  ROC AUC SCORE  \n",
       "0       0.95541       0.616411  "
      ]
     },
     "execution_count": 118,
     "metadata": {},
     "output_type": "execute_result"
    }
   ],
   "source": [
    "models = pd.DataFrame({'Name' : names, 'CROSS VALIDATION SCORE' : cross_val_scores, \n",
    "                       'Accuracy Score' : accuracyscore, 'F1-SCORE' : f1score,\n",
    "                      'RECALL SCORE' : recallscore, 'ROC AUC SCORE' : roc_aucscore})\n",
    "\n",
    "models"
   ]
  },
  {
   "cell_type": "code",
   "execution_count": null,
   "metadata": {},
   "outputs": [],
   "source": []
  },
  {
   "cell_type": "code",
   "execution_count": null,
   "metadata": {},
   "outputs": [],
   "source": []
  },
  {
   "cell_type": "code",
   "execution_count": null,
   "metadata": {},
   "outputs": [],
   "source": []
  },
  {
   "cell_type": "code",
   "execution_count": null,
   "metadata": {},
   "outputs": [],
   "source": []
  }
 ],
 "metadata": {
  "kernelspec": {
   "display_name": "Python 3",
   "language": "python",
   "name": "python3"
  },
  "language_info": {
   "codemirror_mode": {
    "name": "ipython",
    "version": 3
   },
   "file_extension": ".py",
   "mimetype": "text/x-python",
   "name": "python",
   "nbconvert_exporter": "python",
   "pygments_lexer": "ipython3",
   "version": "3.7.6"
  }
 },
 "nbformat": 4,
 "nbformat_minor": 4
}
